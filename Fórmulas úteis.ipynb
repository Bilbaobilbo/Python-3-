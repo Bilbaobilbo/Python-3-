{
 "cells": [
  {
   "cell_type": "code",
   "execution_count": null,
   "metadata": {},
   "outputs": [],
   "source": [
    "tp = (1, 2, 3, 4)\n",
    "for i in tp:\n",
    "    print(i)"
   ]
  },
  {
   "cell_type": "code",
   "execution_count": null,
   "metadata": {},
   "outputs": [],
   "source": [
    "Lista_de_compras = [\"leite\", \"pão\", \"cachaça\"]\n",
    "for i in Lista_de_compras:\n",
    "    print (i)"
   ]
  },
  {
   "cell_type": "code",
   "execution_count": null,
   "metadata": {},
   "outputs": [],
   "source": [
    "for contador in range (0,10):\n",
    "    print (contador)"
   ]
  },
  {
   "cell_type": "code",
   "execution_count": null,
   "metadata": {},
   "outputs": [],
   "source": [
    "#O símbolo de % significa neste caso= se o resto da divisão for zero...\n",
    "lista = [1, 2, 3, 4, 5, 6, 7, 8, 9, 10]\n",
    "for num in lista:\n",
    "    if num % 2 == 0:\n",
    "        print (num)"
   ]
  },
  {
   "cell_type": "code",
   "execution_count": null,
   "metadata": {},
   "outputs": [],
   "source": [
    "for i in range(0, 101, 2):\n",
    "    print (i)"
   ]
  },
  {
   "cell_type": "code",
   "execution_count": null,
   "metadata": {},
   "outputs": [],
   "source": [
    "for caracter in 'eu quero pão de batata':\n",
    "    print(caracter)"
   ]
  },
  {
   "cell_type": "markdown",
   "metadata": {},
   "source": [
    "# loops While"
   ]
  },
  {
   "cell_type": "code",
   "execution_count": null,
   "metadata": {},
   "outputs": [],
   "source": [
    "#Usando o loop while para imprimir os valores de 0 a 9\n",
    "counter = 0\n",
    "while counter < 10:\n",
    "    print(counter)\n",
    "    counter = counter + 1"
   ]
  },
  {
   "cell_type": "code",
   "execution_count": null,
   "metadata": {},
   "outputs": [],
   "source": [
    "x = 0\n",
    "\n",
    "while x <= 10:\n",
    "    print('O valor de x é de: ', x)\n",
    "    x += 1\n",
    "    if x < 10:\n",
    "        print('O valor de x continua menor que 10')\n",
    "else: \n",
    "    print('O Loop chegou ao fim')"
   ]
  },
  {
   "cell_type": "markdown",
   "metadata": {},
   "source": [
    "# Pass, Break, Continue"
   ]
  },
  {
   "cell_type": "code",
   "execution_count": null,
   "metadata": {},
   "outputs": [],
   "source": [
    "counter = 0\n",
    "while counter < 100:\n",
    "    if counter == 4:\n",
    "        break\n",
    "    else:\n",
    "        pass\n",
    "    print(counter)\n",
    "    counter = counter + 1"
   ]
  },
  {
   "cell_type": "code",
   "execution_count": null,
   "metadata": {},
   "outputs": [],
   "source": [
    "for verificador in 'Python':\n",
    "    if verificador == 'h':\n",
    "        continue\n",
    "    print (verificador)\n",
    "    "
   ]
  },
  {
   "cell_type": "code",
   "execution_count": null,
   "metadata": {},
   "outputs": [],
   "source": [
    "for i in range(2, 30):\n",
    "    j = 2\n",
    "    counter = 0\n",
    "    while j <i:\n",
    "        if i % j ==0:\n",
    "            counter = 1\n",
    "            j = j + 1\n",
    "        else:\n",
    "            j = j + 1\n",
    "    if counter == 0:\n",
    "        print (str(i) + \" é um número primo!\")\n",
    "        counter = 0\n",
    "    else:\n",
    "        counter = 0"
   ]
  },
  {
   "cell_type": "code",
   "execution_count": null,
   "metadata": {},
   "outputs": [],
   "source": [
    "##imprimindo numeros pares entre 50 e 101\n",
    "for i in range(50, 101,2):\n",
    "    print(i)"
   ]
  },
  {
   "cell_type": "code",
   "execution_count": null,
   "metadata": {},
   "outputs": [],
   "source": [
    "for i in range(3, 6):\n",
    "    print(i)"
   ]
  },
  {
   "cell_type": "code",
   "execution_count": null,
   "metadata": {},
   "outputs": [],
   "source": [
    "for i in range(15,0, -5):\n",
    "    print (i)"
   ]
  },
  {
   "cell_type": "code",
   "execution_count": null,
   "metadata": {},
   "outputs": [],
   "source": [
    "lista = ['Morango', 'Uva', 'Abacaxi', 'Manga']\n",
    "lista_tamanho = len(lista)\n",
    "for i in range(0, lista_tamanho):\n",
    "    print(lista[i])"
   ]
  },
  {
   "cell_type": "markdown",
   "metadata": {},
   "source": [
    "# CURSO EM VÍDEO"
   ]
  },
  {
   "cell_type": "code",
   "execution_count": null,
   "metadata": {},
   "outputs": [],
   "source": [
    "n1 = int(input(\"Digite o primeiro número\"))\n",
    "\n",
    "n2 = int(input(\"Digite o segundo número\"))\n",
    "S = n1 + n2\n",
    "print(\"O resultado da soma \", n1, \"com\", n2, \"é\", S)"
   ]
  },
  {
   "cell_type": "code",
   "execution_count": null,
   "metadata": {},
   "outputs": [],
   "source": [
    "n3 = int(input(\"Digite um valor\"))\n",
    "n4 = int(input(\"Digite outro valor\"))\n",
    "S = n3 + n4\n",
    "print(\"O resultado da soma entre {} e {} é {}\".format(n3, n4, S))"
   ]
  },
  {
   "cell_type": "code",
   "execution_count": null,
   "metadata": {},
   "outputs": [],
   "source": [
    "n = int(input(\"Digite um número: \"))\n",
    "men = n - 1\n",
    "mai = n + 1\n",
    "print(\"O número antecessor é {} e o numero sucessor é {}\".format(men, mai))\n"
   ]
  },
  {
   "cell_type": "code",
   "execution_count": null,
   "metadata": {},
   "outputs": [],
   "source": [
    "alg = int(input(\"Digite um número: \"))\n",
    "dobro = int(alg * 2)\n",
    "triplo = int(alg * 3)\n",
    "raizq = int(alg **(1/2))\n",
    "print(\"O dobro é {}, o tríplo é {} e a raíz quadrada é {}\".format(dobro, triplo, raizq))"
   ]
  },
  {
   "cell_type": "code",
   "execution_count": null,
   "metadata": {},
   "outputs": [],
   "source": [
    "nota1 = 7\n",
    "nota2 = 4\n",
    "print(\"A sua média é de {}\".format((nota1+nota2)/2))"
   ]
  },
  {
   "cell_type": "code",
   "execution_count": null,
   "metadata": {},
   "outputs": [],
   "source": [
    "dist = int(input(\"Distância em metros: \"))\n",
    "dcen = dist * 100\n",
    "dmil = dist * 1000\n",
    "print(\"A distância equivale a {} centímetros e {} milímetros\".format(dcen, dmil))"
   ]
  },
  {
   "cell_type": "code",
   "execution_count": null,
   "metadata": {},
   "outputs": [],
   "source": [
    "#Criação de tabuada"
   ]
  },
  {
   "cell_type": "code",
   "execution_count": null,
   "metadata": {},
   "outputs": [],
   "source": [
    "tab = int(input(\"Tabuada do número: \"))\n",
    "nul = tab * 0\n",
    "I = tab * 1\n",
    "II = tab * 2\n",
    "III = tab * 3\n",
    "IV = tab * 4\n",
    "V = tab * 5\n",
    "VI = tab * 6\n",
    "VII = tab * 7\n",
    "VIII = tab * 8\n",
    "IX = tab * 11\n",
    "X = tab * 10\n",
    "print(\"vezes 0: {}, vezes 1: {}, vezes 2: {}, vezes 3: {}, vezes 4: {}, vezes 5: {}, vezes 6: {}, vezes 7: {}, vezes 8: {}, vezes 9: {}, vezes 10: {}\".format(nul, I, II, III, IV, V, VI, VII, VIII, IX, X))"
   ]
  },
  {
   "cell_type": "code",
   "execution_count": null,
   "metadata": {},
   "outputs": [],
   "source": [
    "#conversão de valores"
   ]
  },
  {
   "cell_type": "code",
   "execution_count": null,
   "metadata": {},
   "outputs": [],
   "source": [
    "carteira = float(input(\"Dinheiro na carteira em reais: \"))\n",
    "converD = carteira * 3.27\n",
    "print(converD)\n"
   ]
  },
  {
   "cell_type": "code",
   "execution_count": null,
   "metadata": {},
   "outputs": [],
   "source": [
    "#medir qtd de tinta em m2"
   ]
  },
  {
   "cell_type": "code",
   "execution_count": null,
   "metadata": {},
   "outputs": [],
   "source": [
    "largura = float(input(\"Qual é a largura da parede em metros? \"))\n",
    "altura = float(input(\"Qual é a altura da parede em metros? \"))\n",
    "area = largura * altura\n",
    "qtdTinta = area / 2\n",
    "print(\"Você precisa utilizar {} litros de tinta para pintar sua parede\".format(qtdTinta))"
   ]
  },
  {
   "cell_type": "markdown",
   "metadata": {},
   "source": [
    "# Calcular desconto de porcentegem"
   ]
  },
  {
   "cell_type": "code",
   "execution_count": null,
   "metadata": {},
   "outputs": [],
   "source": [
    "pre = float(input(\"Valor do produto: R$\"))\n",
    "desconto = int(input(\"Qual a porcentagem de desconto? %\"))\n",
    "preFin = pre - (pre*desconto/100)\n",
    "print(\"O valor do produto é de R${}, mas com desconto de {}%, fica somente R${:.2f}\".format(pre, desconto, preFin))"
   ]
  },
  {
   "cell_type": "markdown",
   "metadata": {},
   "source": [
    "# Caucular aumento de porcentagem"
   ]
  },
  {
   "cell_type": "code",
   "execution_count": 2,
   "metadata": {},
   "outputs": [
    {
     "name": "stdout",
     "output_type": "stream",
     "text": [
      "Valor total do salário: R$1200\n",
      "Porcentagem de aumento: 15\n",
      "Com 15% de aumento, o salário ficou em 1380.00\n"
     ]
    }
   ],
   "source": [
    "sal = float(input(\"Valor total do salário: R$\"))\n",
    "aum = int(input(\"Porcentagem de aumento: \"))\n",
    "salFin = sal + (sal * aum / 100)\n",
    "print(\"Com {}% de aumento, o salário ficou em {:.2f}\".format(aum, salFin))"
   ]
  },
  {
   "cell_type": "markdown",
   "metadata": {},
   "source": [
    "# Importação de pacotes"
   ]
  },
  {
   "cell_type": "code",
   "execution_count": null,
   "metadata": {},
   "outputs": [],
   "source": [
    "#importação de pacote de matemática"
   ]
  },
  {
   "cell_type": "code",
   "execution_count": null,
   "metadata": {},
   "outputs": [],
   "source": [
    "from math import sqrt, floor\n",
    "num = int(input(\"Digite um numero: \"))\n",
    "raiz = sqrt(num)\n",
    "print(\"A raiz de {} é igual a {:.2f}\".format(num, floor(raiz)))"
   ]
  },
  {
   "cell_type": "code",
   "execution_count": null,
   "metadata": {},
   "outputs": [],
   "source": [
    "#Criação de um dado"
   ]
  },
  {
   "cell_type": "code",
   "execution_count": null,
   "metadata": {},
   "outputs": [],
   "source": [
    "import random\n",
    "num = random.randint(1, 20)\n",
    "print(num)"
   ]
  },
  {
   "cell_type": "code",
   "execution_count": null,
   "metadata": {},
   "outputs": [],
   "source": [
    "#Exercício 16 - 21"
   ]
  },
  {
   "cell_type": "code",
   "execution_count": null,
   "metadata": {},
   "outputs": [],
   "source": [
    "#16"
   ]
  },
  {
   "cell_type": "code",
   "execution_count": null,
   "metadata": {},
   "outputs": [],
   "source": [
    "from math import floor\n",
    "num = float(input(\"Digite um numero decimal \"))\n",
    "print(\"O número {} tem a parte inteira {}\".format(num, floor(num)))"
   ]
  },
  {
   "cell_type": "code",
   "execution_count": null,
   "metadata": {},
   "outputs": [],
   "source": [
    "#17 com o método matemático"
   ]
  },
  {
   "cell_type": "code",
   "execution_count": null,
   "metadata": {},
   "outputs": [],
   "source": [
    "catOp = float(input(\"Valor do Cateto Oposto: \"))\n",
    "catAd = float(input(\"Valor do Cateto Adjacente: \"))\n",
    "hip2 = (catOp**2 + catAd**2)\n",
    "hip = hip2**(1/2)\n",
    "print(\"O valor da hipotenusa é: {:.2f}\".format(hip))"
   ]
  },
  {
   "cell_type": "code",
   "execution_count": null,
   "metadata": {},
   "outputs": [],
   "source": [
    "#17 com importação de módulo"
   ]
  },
  {
   "cell_type": "code",
   "execution_count": null,
   "metadata": {},
   "outputs": [],
   "source": [
    "from math import hypot\n",
    "catOp = float(input(\"Valor do Cateto Oposto: \"))\n",
    "catAd = float(input(\"Valor do Cateto Adjacente\"))\n",
    "hip = math.hypot(catOp, catAd)\n",
    "print(\"A Hipotenusa mede {:.2f}\".format(hip))"
   ]
  },
  {
   "cell_type": "code",
   "execution_count": null,
   "metadata": {},
   "outputs": [],
   "source": [
    "#18 Calculo de Seno, Cosseno e Tangente"
   ]
  },
  {
   "cell_type": "code",
   "execution_count": null,
   "metadata": {},
   "outputs": [],
   "source": [
    "from math import sin, cos, tan, radians\n",
    "angulo = float(input(\"Ângulo desejado para encontrar os valores: \"))\n",
    "seno = sin(radians(angulo))\n",
    "print(\"O ângulo de {}º tem o seno de {:.2f}\".format(angulo, seno))\n",
    "cosseno = cos(math.radians(angulo))\n",
    "print(\"O ângulo de {}º tem o cosseno de {:.2f}\".format(angulo, cosseno))\n",
    "tangente = tan(math.radians(angulo))\n",
    "print(\"O ângulo de {}º tem o cosseno de {:.2f}\".format(angulo, tangente))"
   ]
  },
  {
   "cell_type": "code",
   "execution_count": null,
   "metadata": {},
   "outputs": [],
   "source": [
    "#19 com if e elif"
   ]
  },
  {
   "cell_type": "code",
   "execution_count": null,
   "metadata": {},
   "outputs": [],
   "source": [
    "import random\n",
    "num = random.randint(1, 4)\n",
    "if num == 1:\n",
    "    print('Marcos')\n",
    "elif num == 2:\n",
    "    print('André')\n",
    "elif num == 3:\n",
    "    print('Nicole')\n",
    "elif num == 4:\n",
    "    print('Beatriz')"
   ]
  },
  {
   "cell_type": "code",
   "execution_count": null,
   "metadata": {},
   "outputs": [],
   "source": [
    "#19 com importação de módulos"
   ]
  },
  {
   "cell_type": "code",
   "execution_count": null,
   "metadata": {},
   "outputs": [],
   "source": [
    "import random\n",
    "alu1 = str(input(\"Nome do aluno 1: \"))\n",
    "alu2 = str(input(\"Nome do aluno 2: \"))\n",
    "alu3 = str(input(\"Nome do aluno 3: \"))\n",
    "alu4 = str(input(\"Nome do aluno 4: \"))\n",
    "lista = [alu1, alu2, alu3, alu4]\n",
    "\n",
    "escolhido = random.choice(lista)\n",
    "print(\"O aluno escolhido foi o/a {}\".format(escolhido))"
   ]
  },
  {
   "cell_type": "code",
   "execution_count": null,
   "metadata": {},
   "outputs": [],
   "source": [
    "#20 módulo de embaralhamento de lista"
   ]
  },
  {
   "cell_type": "code",
   "execution_count": 3,
   "metadata": {},
   "outputs": [
    {
     "name": "stdout",
     "output_type": "stream",
     "text": [
      "Nome do aluno 1: al1\n",
      "Nome do aluno 2: al2\n",
      "Nome do aluno 3: al3\n",
      "Nome do aluno 4: al4\n",
      "A ordem dos alunos será: \n",
      "['al2', 'al3', 'al1', 'al4']\n"
     ]
    }
   ],
   "source": [
    "from random import shuffle\n",
    "alu1 = str(input(\"Nome do aluno 1: \"))\n",
    "alu2 = str(input(\"Nome do aluno 2: \"))\n",
    "alu3 = str(input(\"Nome do aluno 3: \"))\n",
    "alu4 = str(input(\"Nome do aluno 4: \"))\n",
    "lista = [alu1, alu2, alu3, alu4]\n",
    "shuffle(lista)\n",
    "print(\"A ordem dos alunos será: \")\n",
    "print(lista)"
   ]
  },
  {
   "cell_type": "code",
   "execution_count": null,
   "metadata": {},
   "outputs": [],
   "source": [
    "#21"
   ]
  },
  {
   "cell_type": "code",
   "execution_count": null,
   "metadata": {},
   "outputs": [],
   "source": [
    "##fatiamento de strings"
   ]
  },
  {
   "cell_type": "code",
   "execution_count": 13,
   "metadata": {
    "scrolled": true
   },
   "outputs": [
    {
     "name": "stdout",
     "output_type": "stream",
     "text": [
      "VdoPto\n",
      "Curso\n",
      "Python\n",
      "VePh\n"
     ]
    }
   ],
   "source": [
    "frase = 'Curso em Vídeo Python'\n",
    "print(frase[9:21:2])\n",
    "print(frase[:5])\n",
    "print(frase[15:])\n",
    "print(frase[9::3])"
   ]
  },
  {
   "cell_type": "code",
   "execution_count": null,
   "metadata": {},
   "outputs": [],
   "source": [
    "##Análise de strings"
   ]
  },
  {
   "cell_type": "code",
   "execution_count": 23,
   "metadata": {},
   "outputs": [
    {
     "name": "stdout",
     "output_type": "stream",
     "text": [
      "21\n",
      "3\n",
      "1\n",
      "11\n",
      "-1\n"
     ]
    },
    {
     "data": {
      "text/plain": [
       "True"
      ]
     },
     "execution_count": 23,
     "metadata": {},
     "output_type": "execute_result"
    }
   ],
   "source": [
    "frase = 'Curso em Vídeo Python'\n",
    "##conta quantos caracteres existem na string\n",
    "print(len(frase))\n",
    "##conta quantos caracteres ou palavras desse tipo existem na string\n",
    "print(frase.count('o'))\n",
    "##conta quantos caracteres ou palavras desse tipo existem em um determinado trecho da string\n",
    "print(frase.count('o',0,13))\n",
    "##mostra onde começa a parte da string\n",
    "print(frase.find(\"deo\"))\n",
    "##Caso não encontre na string\n",
    "print(frase.find(\"max\"))\n",
    "##Verifica se existe a palavra na string\n",
    "'Curso' in frase"
   ]
  },
  {
   "cell_type": "code",
   "execution_count": null,
   "metadata": {},
   "outputs": [],
   "source": [
    "##transformação de string"
   ]
  },
  {
   "cell_type": "code",
   "execution_count": 34,
   "metadata": {},
   "outputs": [
    {
     "name": "stdout",
     "output_type": "stream",
     "text": [
      "Curso em vídeo Python\n",
      "Curso em vídeo Android\n",
      "CURSO EM VÍDEO PYTHON\n",
      "curso em vídeo python\n",
      "Curso em vídeo python\n",
      "Curso Em Vídeo Python\n"
     ]
    }
   ],
   "source": [
    "frase = 'Curso em vídeo Python'\n",
    "print(frase)\n",
    "##substitui uma palavra da string por outra desejada\n",
    "print(frase.replace('Python', 'Android'))\n",
    "##transforma todos o caracteres para maiúsculas ou minusculas respectivamente\n",
    "print(frase.upper())\n",
    "print(frase.lower())\n",
    "#Faz somente o primeiro caracter ficar maiúsculo, deixando todos os outros minúsculos\n",
    "print(frase.capitalize())\n",
    "##deixa todas as palavras com inicial maiúsculas\n",
    "print(frase.title())"
   ]
  },
  {
   "cell_type": "code",
   "execution_count": 38,
   "metadata": {},
   "outputs": [
    {
     "name": "stdout",
     "output_type": "stream",
     "text": [
      "   Aprenda Python  \n",
      "Aprenda Python\n",
      "   Aprenda Python\n",
      "Aprenda Python  \n"
     ]
    }
   ],
   "source": [
    "frase = '   Aprenda Python  '\n",
    "print(frase)\n",
    "##Remove todos os espaços inúteis do começo e do final da string\n",
    "print(frase.strip())\n",
    "##Remove os espaços inúteis a direita e a esquerda respectivamente\n",
    "print(frase.rstrip())\n",
    "print(frase.lstrip())"
   ]
  },
  {
   "cell_type": "code",
   "execution_count": null,
   "metadata": {},
   "outputs": [],
   "source": [
    "##Divisão e Junção de string"
   ]
  },
  {
   "cell_type": "code",
   "execution_count": 46,
   "metadata": {},
   "outputs": [
    {
     "name": "stdout",
     "output_type": "stream",
     "text": [
      "Curso em vídeo Python\n",
      "['Curso', 'em', 'vídeo', 'Python']\n"
     ]
    },
    {
     "data": {
      "text/plain": [
       "'Curso em vídeo Python'"
      ]
     },
     "execution_count": 46,
     "metadata": {},
     "output_type": "execute_result"
    }
   ],
   "source": [
    "frase = 'Curso em vídeo Python'\n",
    "print(frase)\n",
    "##divide a string em uma LISTA com base nos espaços entre as palavras\n",
    "print(frase.split())\n",
    "##Junta as strings de uma lista em uma única string\n",
    "lista =['Curso', 'em', 'vídeo', 'Python']\n",
    "' '.join(lista)"
   ]
  },
  {
   "cell_type": "code",
   "execution_count": null,
   "metadata": {},
   "outputs": [],
   "source": []
  }
 ],
 "metadata": {
  "kernelspec": {
   "display_name": "Python 3",
   "language": "python",
   "name": "python3"
  },
  "language_info": {
   "codemirror_mode": {
    "name": "ipython",
    "version": 3
   },
   "file_extension": ".py",
   "mimetype": "text/x-python",
   "name": "python",
   "nbconvert_exporter": "python",
   "pygments_lexer": "ipython3",
   "version": "3.6.5"
  }
 },
 "nbformat": 4,
 "nbformat_minor": 2
}
