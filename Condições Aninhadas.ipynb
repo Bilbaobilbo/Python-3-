{
 "cells": [
  {
   "cell_type": "markdown",
   "metadata": {},
   "source": [
    "# Teoria"
   ]
  },
  {
   "cell_type": "code",
   "execution_count": 1,
   "metadata": {},
   "outputs": [],
   "source": [
    "\"\"\"if carro.esquerdo():\n",
    "    bloco1\n",
    "elif carro.direito():\n",
    "    bloco2\n",
    "elif carro.ré():\n",
    "    bloco3\n",
    "else:\n",
    "    bloco4\"\"\""
   ]
  },
  {
   "cell_type": "markdown",
   "metadata": {},
   "source": [
    "# Prática"
   ]
  },
  {
   "cell_type": "code",
   "execution_count": 2,
   "metadata": {},
   "outputs": [
    {
     "data": {
      "text/plain": [
       "\"nome = str(input('Qual é seu nome? ')).title()\\nif nome == 'Gustavo':\\n    print('Que nome bonito!')\\nelif nome == ('Pedro' or 'Maria' or 'Paulo'):\\n    print('Seu nome é bastante popular no Brasil!')\\nelif nome in 'Ana Cláudia Jéssica Juliana':\\n    print('Que belo nome feminino!')\\nelse:\\n    print('Que nome feio!')\\nprint('Tenha um bom dia, {}!'.format(nome))\""
      ]
     },
     "execution_count": 2,
     "metadata": {},
     "output_type": "execute_result"
    }
   ],
   "source": [
    "\"\"\"nome = str(input('Qual é seu nome? ')).title()\n",
    "if nome == 'Gustavo':\n",
    "    print('Que nome bonito!')\n",
    "elif nome == ('Pedro' or 'Maria' or 'Paulo'):\n",
    "    print('Seu nome é bastante popular no Brasil!')\n",
    "elif nome in 'Ana Cláudia Jéssica Juliana':\n",
    "    print('Que belo nome feminino!')\n",
    "else:\n",
    "    print('Que nome feio!')\n",
    "print('Tenha um bom dia, {}!'.format(nome))\"\"\""
   ]
  },
  {
   "cell_type": "markdown",
   "metadata": {},
   "source": [
    "# Exercícios"
   ]
  },
  {
   "cell_type": "markdown",
   "metadata": {},
   "source": [
    "# 36"
   ]
  },
  {
   "cell_type": "code",
   "execution_count": 3,
   "metadata": {},
   "outputs": [],
   "source": [
    "#36 - Escreva um programa para aprovar o empréstimo bancário para a compra de uma casa. O programa vai perguntar o valor da\n",
    "#casa, o salário do comprador e em quantos anos ele vai pagar.\n",
    "#Calcule o valor da prestação mensal, sabendo que ela não pode exceder 30% do salário ou então o empréstimo será negado"
   ]
  },
  {
   "cell_type": "code",
   "execution_count": 40,
   "metadata": {},
   "outputs": [
    {
     "name": "stdout",
     "output_type": "stream",
     "text": [
      "CÁLCULO DE IMPRÉSTIMO:\n",
      "Qual é o valor do Imóvel? 80000\n",
      "Qual é o salário do comprador? 10000\n",
      "Quantos anos parcelados? 7\n",
      "Você deverá pagar 84 parcelas.\n",
      "O valor das parcelas é de R$952.38, não ultrapassando o limite de 30% do salário de R$3000.00. Parabéns, o impréstimo foi  aprovado!\n"
     ]
    }
   ],
   "source": [
    "print('CÁLCULO DE IMPRÉSTIMO:')\n",
    "casa = float(input('Qual é o valor do Imóvel? ')) #valor da casa\n",
    "sal = float(input('Qual é o salário do comprador? ')) #valor do salário do comprador\n",
    "parc = int(input('Quantos anos parcelados? ')) #quantidade de anos para parcelar\n",
    "parcm = parc * 12 #quantidade de parcelas mensais ao todo\n",
    "print('Você deverá pagar {} parcelas.'.format(parcm))\n",
    "casap = casa / parcm #valor da casa dividido pelas parcelas\n",
    "salp = sal / 100 * 30 #30% do valor do salário do comprador\n",
    "if casap > salp:\n",
    "    print('O valor das parcelas é de R${:.2f}, tendo ultrapassado o limite de 30% do salário de R${:.2f}. Infelizmente o impréstimo será negado.'.format(casap, salp))\n",
    "else:\n",
    "    print('O valor das parcelas é de R${:.2f}, não ultrapassando o limite de 30% do salário de R${:.2f}. Parabéns, o impréstimo foi  aprovado!'.format(casap, salp))"
   ]
  },
  {
   "cell_type": "code",
   "execution_count": 43,
   "metadata": {},
   "outputs": [
    {
     "name": "stdout",
     "output_type": "stream",
     "text": [
      "Valor da casa: R$120000\n",
      "Salário do comprador: R$5000\n",
      "Quantos anos de financiamento?10\n",
      "Para pagar uma casa de R$120000.00 em 10 anos, a prestação será de R$1000.00\n",
      "Empréstimo pode ser CONCEDIDO!\n"
     ]
    }
   ],
   "source": [
    "#Correção: \n",
    "casa = float(input('Valor da casa: R$'))\n",
    "salário = float(input('Salário do comprador: R$'))\n",
    "anos = int(input('Quantos anos de financiamento?'))\n",
    "prestação = casa / (anos * 12)\n",
    "mínimo = salário * 30 / 100\n",
    "print('Para pagar uma casa de R${:.2f} em {} anos, a prestação será de R${:.2f}'.format(casa, anos, prestação))\n",
    "if prestação <= mínimo:\n",
    "    print('Empréstimo pode ser CONCEDIDO!')\n",
    "else:\n",
    "    print('Empréstimo NEGADO!')"
   ]
  },
  {
   "cell_type": "markdown",
   "metadata": {},
   "source": [
    "# 37"
   ]
  },
  {
   "cell_type": "code",
   "execution_count": 5,
   "metadata": {},
   "outputs": [],
   "source": [
    "#37 - Escreva um programa que leia um número inteiro qualquer e peça para o usuário escolher qual será a base de conversão:\n",
    "#    *Binário\n",
    "#    *octal\n",
    "#    *hexadecimal"
   ]
  },
  {
   "cell_type": "code",
   "execution_count": 53,
   "metadata": {},
   "outputs": [
    {
     "name": "stdout",
     "output_type": "stream",
     "text": [
      "CONVERSÃO DE VALORES:\n",
      "Digite um número inteiro: 93\n",
      "Escolha uma das bases para conversão:\n",
      "[1] converter para binário\n",
      "[2] converter para octal\n",
      "[3] converter para hexadecimal\n",
      "Sua opção: 1\n",
      "93 convertido para binário é igual a 1011101\n"
     ]
    }
   ],
   "source": [
    "print('CONVERSÃO DE VALORES:')\n",
    "\n",
    "num = int(input('Digite um número inteiro: '))\n",
    "print('''Escolha uma das bases para conversão:\n",
    "[1] converter para binário\n",
    "[2] converter para octal\n",
    "[3] converter para hexadecimal''')\n",
    "opção = int(input('Sua opção: '))\n",
    "if opção ==1:\n",
    "    print('{} convertido para binário é igual a {}'.format(num, bin(num)[2:]))\n",
    "elif opção ==2:\n",
    "    print('{} convertido para octal é igual a {}'.format(num, oct(num)[2:]))\n",
    "elif opção ==3:\n",
    "    print('{} convertido para hexadecimal é igual a {}'.format(num, hex(num)[2:]))\n",
    "else: \n",
    "    print('Opção inválida. Tente novamente')"
   ]
  },
  {
   "cell_type": "markdown",
   "metadata": {},
   "source": [
    "# 38"
   ]
  },
  {
   "cell_type": "code",
   "execution_count": 6,
   "metadata": {},
   "outputs": [],
   "source": [
    "#38 - Escreva um programa que leia dois números inteiros e compare-os, mostrando na tela a mensagem:\n",
    "#    *O primeiro valor é maior\n",
    "#    *O segundo valor é maior\n",
    "#    *Não existe valor maior, os dois são iguais"
   ]
  },
  {
   "cell_type": "code",
   "execution_count": 56,
   "metadata": {},
   "outputs": [
    {
     "name": "stdout",
     "output_type": "stream",
     "text": [
      "COMPARE OS NÚMEROS: \n",
      "Digite o primeiro número: 12\n",
      "Digite o segundo número: 12\n",
      "Não existe valor maior, os dois são iguais!\n"
     ]
    }
   ],
   "source": [
    "print('COMPARE OS NÚMEROS: ')\n",
    "n1 = int(input('Digite o primeiro número: '))\n",
    "n2 = int(input('Digite o segundo número: '))\n",
    "\n",
    "if n1 > n2:\n",
    "    print('O primeiro valor é maior.')\n",
    "elif n1 < n2:\n",
    "    print('O segundo valor é maior.')\n",
    "else:\n",
    "    print('Não existe valor maior, os dois são iguais!')"
   ]
  },
  {
   "cell_type": "code",
   "execution_count": null,
   "metadata": {},
   "outputs": [],
   "source": [
    "#Correção:\n",
    "## Está exatamente igual ao que eu fiz"
   ]
  },
  {
   "cell_type": "markdown",
   "metadata": {},
   "source": [
    "# 39"
   ]
  },
  {
   "cell_type": "code",
   "execution_count": 8,
   "metadata": {},
   "outputs": [],
   "source": [
    "#39 - Faça um programa que leia o ano de nascimento de um jovem e informe, de acordo com sua idade:\n",
    "#    *Se ele ainda vai se alistar ao serviço militar\n",
    "#    *Se ele está na hora de se alistar\n",
    "#    *Se já passou do tempo de se alistar\n",
    "# O programa também deve mostrar quanto tempo que falta ou quanto que passou do prazo."
   ]
  },
  {
   "cell_type": "code",
   "execution_count": 58,
   "metadata": {},
   "outputs": [
    {
     "name": "stdout",
     "output_type": "stream",
     "text": [
      "TESTE DE IDADE MILITAR: \n",
      "Qual o ano de nascimento? 1995\n",
      "Você não está mais na idade do alistamento militar. Caso você não tenha se alistado, você está 6 ano(s) atrasado.\n"
     ]
    }
   ],
   "source": [
    "print('TESTE DE IDADE MILITAR: ')\n",
    "from datetime import date\n",
    "anoN = int(input('Qual o ano de nascimento? '))\n",
    "anoH = date.today().year\n",
    "idade = anoH - anoN\n",
    "if idade < 18:\n",
    "    tempoA = 18 - idade\n",
    "    print('Ainda não chegou a hora de se alistar, mas fique atento pois falta(m) apenas {} ano(s)!'.format(tempoA))\n",
    "elif idade == 18:\n",
    "    print('Chegou a hora de se alistar! Vá até a junta militar mais próxima e faça o alistamento.')\n",
    "else:\n",
    "    tempoD = idade - 18\n",
    "    print('Você não está mais na idade do alistamento militar. Caso você não tenha se alistado, você está {} ano(s) atrasado.'.format(tempoD))\n",
    "    "
   ]
  },
  {
   "cell_type": "code",
   "execution_count": 61,
   "metadata": {},
   "outputs": [
    {
     "name": "stdout",
     "output_type": "stream",
     "text": [
      "Ano de nascimento: 2004\n",
      "Quem nasceu em 2004 tem 15 anos em 2019.\n",
      "Ainda faltam 3 anos para o alistamento.\n",
      "Seu alistamento será em 2022\n"
     ]
    }
   ],
   "source": [
    "#Correção:\n",
    "from datetime import date\n",
    "atual = date.today().year\n",
    "nasc = int(input('Ano de nascimento: '))\n",
    "idade = atual - nasc\n",
    "print('Quem nasceu em {} tem {} anos em {}.'.format(nasc, idade, atual))\n",
    "if idade == 18:\n",
    "    print('Você tem que se alistar imediatamente!')\n",
    "elif idade < 18:\n",
    "    saldo = 18 - idade\n",
    "    print('Ainda faltam {} anos para o alistamento.'.format(saldo))\n",
    "    ano = atual + saldo\n",
    "    print('Seu alistamento será em {}'.format(ano))\n",
    "elif idade > 18:\n",
    "    saldo = idade - 18\n",
    "    print('Você deveria ter se alistado há {} anos.'.format(saldo))\n",
    "    ano = atual - saldo\n",
    "    print('Seu alistamento foi em {}'.format(ano))\n"
   ]
  },
  {
   "cell_type": "markdown",
   "metadata": {},
   "source": [
    "# 40"
   ]
  },
  {
   "cell_type": "code",
   "execution_count": 62,
   "metadata": {},
   "outputs": [],
   "source": [
    "#40 - Crie um programa que leia duas notas de um aluno e calcule sua média, mostrando uma mensagemno final, de acordo com a\n",
    "#média atingida:\n",
    "#    *Média abaixo de 5.0: Reprovado\n",
    "#    *Média entre 5.0 e 6.9: Recuperação\n",
    "#    *Média 7.0 ousuperior: Aprovado"
   ]
  },
  {
   "cell_type": "code",
   "execution_count": 65,
   "metadata": {},
   "outputs": [
    {
     "name": "stdout",
     "output_type": "stream",
     "text": [
      "CÁLCULO DE MÉDIA DE NOTA: \n",
      "Valor da primeira nota: 5\n",
      "Valor da segunda nota: 5\n",
      "Sua média foi 5.0, Parabéns, você foi Aprovado!\n"
     ]
    }
   ],
   "source": [
    "print('CÁLCULO DE MÉDIA DE NOTA: ')\n",
    "nota1 =  float(input('Valor da primeira nota: '))\n",
    "nota2 = float(input('Valor da segunda nota: '))\n",
    "média = (nota1 + nota2) / 2\n",
    "if média < 5.0:\n",
    "    print('Sua média foi {}, você foi Reprovado!'.format(média))\n",
    "elif média > 5.0 and média < 6.9:\n",
    "    print('Sua média foi {}, você está na Recuperação!'.format(média))\n",
    "else:\n",
    "    print('Sua média foi {}, Parabéns, você foi Aprovado!'.format(média))"
   ]
  },
  {
   "cell_type": "code",
   "execution_count": 67,
   "metadata": {},
   "outputs": [
    {
     "name": "stdout",
     "output_type": "stream",
     "text": [
      "Primeira nota: 2\n",
      "Segunda nota: 4\n",
      "Tirando 2.0 e 4.0, a média do aluno é 3.0\n",
      "O aluno está REPROVADO!\n"
     ]
    }
   ],
   "source": [
    "#Correção:\n",
    "nota1 = float(input('Primeira nota: '))\n",
    "nota2 = float(input('Segunda nota: '))\n",
    "média = (nota1 + nota2) / 2\n",
    "print('Tirando {:.1f} e {:.1f}, a média do aluno é {:.1f}'.format(nota1, nota2, média))\n",
    "if 7 > média >= 5:\n",
    "    print('O aluno está em RECUPERAÇÂO.')\n",
    "elif média < 5:\n",
    "    print('O aluno está REPROVADO!')\n",
    "elif média >= 7:\n",
    "    print('O aluno está APROVADO!')"
   ]
  },
  {
   "cell_type": "markdown",
   "metadata": {},
   "source": [
    "# 41"
   ]
  },
  {
   "cell_type": "code",
   "execution_count": 12,
   "metadata": {},
   "outputs": [],
   "source": [
    "#41 - A confederação nacional de natação precisa de um programa que leia o ano de nascimento de um atleta e mostre\n",
    "#sua categoria de acordo com a idade:\n",
    "#    *até 9 anos: Mirim\n",
    "#    *até 14 anos: Infantil\n",
    "#    *até 19 anos: Junior\n",
    "#    *até 25 anos: Sênior\n",
    "#    *acima: Master"
   ]
  },
  {
   "cell_type": "code",
   "execution_count": 13,
   "metadata": {},
   "outputs": [
    {
     "name": "stdout",
     "output_type": "stream",
     "text": [
      "CLASSIFICAÇÃO PARA CATEGORIAS DE NATAÇÃO: \n",
      "Qual é a idade do nadador? 9\n",
      "A categoria designada é Mirim.\n"
     ]
    }
   ],
   "source": [
    "print('CLASSIFICAÇÃO PARA CATEGORIAS DE NATAÇÃO: ')\n",
    "from datetime import date\n",
    "idade =  int(input('Qual é a idade do nadador? '))\n",
    "if idade <= 9:\n",
    "    print('A categoria designada é Mirim.')\n",
    "elif idade > 9 and idade <= 14:\n",
    "    print('A categoria dasignada é Infantil.')\n",
    "elif idade > 14 and idade <= 19:\n",
    "    print('A categoria designada é Júnior.')\n",
    "elif idade > 19 and idade <= 25:\n",
    "    print('A categoria designada é Sênior.')\n",
    "else:\n",
    "    print('A categoria designada é Master.')"
   ]
  },
  {
   "cell_type": "code",
   "execution_count": null,
   "metadata": {},
   "outputs": [],
   "source": [
    "#Correção:\n",
    "## Está exatamente igual ao que eu fiz"
   ]
  },
  {
   "cell_type": "markdown",
   "metadata": {},
   "source": [
    "# 42"
   ]
  },
  {
   "cell_type": "code",
   "execution_count": 14,
   "metadata": {},
   "outputs": [],
   "source": [
    "#42 - Refaça o desafio 35 dos triângulos, acrescentando o recurso de mostrar que tipo de triângulo será formado:\n",
    "#    *Equilátero: todos os lados iguais\n",
    "#    *Isósceles: dois lados iguais\n",
    "#    *Escaleno: todos os lados diferentes"
   ]
  },
  {
   "cell_type": "code",
   "execution_count": 15,
   "metadata": {},
   "outputs": [],
   "source": [
    "#35 - Desenvolva um programa que leia o comprimento de três retas e diga ao usuário se elas podem ou não formar um triângulo."
   ]
  },
  {
   "cell_type": "code",
   "execution_count": 69,
   "metadata": {},
   "outputs": [
    {
     "name": "stdout",
     "output_type": "stream",
     "text": [
      "CRIAÇÃO DE TIPOS DE TRIÂNGULO: \n",
      "Tamanho da reta 1: 4\n",
      "Tamanho da reta 2: 3\n",
      "Tamanho da reta 3: 4\n",
      "Não é possível montar um triângulo.\n"
     ]
    }
   ],
   "source": [
    "print('CRIAÇÃO DE TIPOS DE TRIÂNGULO: ')\n",
    "a = float(input('Tamanho da reta 1: '))\n",
    "b = float(input('Tamanho da reta 2: '))\n",
    "c = float(input('Tamanho da reta 3: '))\n",
    "\"\"\"Equilátero = a == b and a == c and b == c\n",
    "Isósceles = a == b or a == c or b == c\n",
    "Escaleno = a != b and a !=c and b != c\"\"\"\n",
    "if a == b and a == c and b == c:\n",
    "    print('É possível motar um triângulo Equilátero.')\n",
    "elif a == b and a == c and b == c:\n",
    "    print('É possível montar um triângulo Isósceles.')\n",
    "elif a != b and a !=c and b != c:\n",
    "    print('É possível montar um triângulo Escaleno.')\n",
    "else:\n",
    "    print('Não é possível montar um triângulo.')"
   ]
  },
  {
   "cell_type": "code",
   "execution_count": 75,
   "metadata": {},
   "outputs": [
    {
     "name": "stdout",
     "output_type": "stream",
     "text": [
      "Primeiro Seguimento: 6\n",
      "Segundo Seguimento: 6\n",
      "Terceiro Seguimento: 5\n",
      "Os seguimentos acima podem formar um triângulo ISÓCELES!\n"
     ]
    }
   ],
   "source": [
    "#Correção:\n",
    "r1 = float(input('Primeiro Seguimento: '))\n",
    "r2 = float(input('Segundo Seguimento: '))\n",
    "r3 = float(input('Terceiro Seguimento: '))\n",
    "if r1 < r2 + r3 and r2 < r1 + r3 and r3 < r1 + r2:\n",
    "    print('Os seguimentos acima podem formar um triângulo', end='')\n",
    "    if r1 == r2 == r3:\n",
    "        print(' EQUILÁTERO!')\n",
    "    elif r1 != r2 != r3 != r1:\n",
    "        print(' ESCALENO!')\n",
    "    else:\n",
    "        print(' ISÓCELES!')\n",
    "else:\n",
    "    print('Os seguimentos acima não podem formar um triângulo!')"
   ]
  },
  {
   "cell_type": "markdown",
   "metadata": {},
   "source": [
    "# 43"
   ]
  },
  {
   "cell_type": "code",
   "execution_count": 17,
   "metadata": {},
   "outputs": [],
   "source": [
    "#43 - Desenvolva uma lógica que leia o peso e a altura de uma pessoa, calcule seu IMC e mostre seu status, de acordo com a\n",
    "#tabela abaixo:\n",
    "#    *Abaixo de 18.5: Abaixo do peso\n",
    "#    *Entre 18.5 e 25: Peso ideal\n",
    "#    *25 até 30: Sobrepeso\n",
    "#    *30 até 40: Obesidade \n",
    "#    *Acima de 40: Obesidade mórbida"
   ]
  },
  {
   "cell_type": "code",
   "execution_count": 79,
   "metadata": {},
   "outputs": [
    {
     "name": "stdout",
     "output_type": "stream",
     "text": [
      "CÁLCULO DE IMC: \n",
      "Qual é o peso? 45\n",
      "Qual é a altura? 1.80\n",
      "Seu IMC é 13.9. Você está abaixo do peso.\n"
     ]
    }
   ],
   "source": [
    "print('CÁLCULO DE IMC: ')\n",
    "peso = float(input('Qual é o peso? '))\n",
    "altura = float(input('Qual é a altura? '))\n",
    "imc = peso / altura**2 \n",
    "if imc < 18.5:\n",
    "    print('Seu IMC é {:.1f}. Você está abaixo do peso.'.format(imc))\n",
    "elif imc > 18.5 and imc <= 25:\n",
    "    print('Seu IMC é {:.1f}. Você está no peso ideal.'.format(imc))\n",
    "elif imc > 25 and imc <= 30:\n",
    "    print('Seu IMC é {:.1f}. Você está com sobrepeso.'.format(imc))\n",
    "elif imc > 30 and imc <= 40:\n",
    "    print('Seu IMC é {:.1f}. Você está com obesidade.'.format(imc))\n",
    "else:\n",
    "    print('Seu IMC é {:.1f}. Você está com obesidade mórbida.'.format(imc))"
   ]
  },
  {
   "cell_type": "code",
   "execution_count": null,
   "metadata": {},
   "outputs": [],
   "source": [
    "#Correção:\n",
    "## Está exatamente igual ao que eu fiz"
   ]
  },
  {
   "cell_type": "markdown",
   "metadata": {},
   "source": [
    "# 44"
   ]
  },
  {
   "cell_type": "code",
   "execution_count": 19,
   "metadata": {},
   "outputs": [],
   "source": [
    "#44 - Elabore um programa que calcule o valor a ser pago por um porduto, considerando seu proço normal e sua condição\n",
    "#de pagamento:\n",
    "#    *à vista/dinheiro/cheque: 10% de desconto\n",
    "#    *à vista no cartão: 5% de desconto\n",
    "#    *em até 2x no cartão: preço normal\n",
    "#    *3x ou mais no cartão: 20% de júros"
   ]
  },
  {
   "cell_type": "code",
   "execution_count": 80,
   "metadata": {},
   "outputs": [
    {
     "name": "stdout",
     "output_type": "stream",
     "text": [
      "Qual é o preço do produto? R$1500\n",
      "Qual o método de pagamento? a vista\n",
      "Qual é o número de parcelas? 1\n"
     ]
    }
   ],
   "source": [
    "preçoN = float(input('Qual é o preço do produto? R$'))\n",
    "pagamento = str(input('Qual o método de pagamento? '))\n",
    "parcelas = int(input('Qual é o número de parcelas? '))\n",
    "desconto10 = preçoN - (preçoN * 10 / 100)\n",
    "if pagamento == 'a vista, dinheiro, cheque':\n",
    "    print('O valor do produto é {:.2f}, tendo 10% de desconto fica {:.2f}'.format(preçoN, desconto10))\n",
    "    "
   ]
  },
  {
   "cell_type": "code",
   "execution_count": 92,
   "metadata": {},
   "outputs": [
    {
     "name": "stdout",
     "output_type": "stream",
     "text": [
      "============= LOJA VIRTUAL =============\n",
      "Preço das compras: 1000\n",
      "FORMAS DE PAGAMENTO\n",
      "[1] à vista dinheiro/cheque\n",
      "[2] à vista cartão\n",
      "[3] 2x no cartão\n",
      "[4] 3x ou mais no cartão\n",
      "Qual é a opção? 5\n",
      "OPÇÃO INVÁLIDA, TENTE NOVAMENTE!\n",
      "Sua compra de R$1000.00 vai custar 0.00 no final.\n"
     ]
    }
   ],
   "source": [
    "##Correção:\n",
    "print('{:=^40}'.format(' LOJA VIRTUAL '))\n",
    "preço = float(input('Preço das compras: '))\n",
    "print('''FORMAS DE PAGAMENTO\n",
    "[1] à vista dinheiro/cheque\n",
    "[2] à vista cartão\n",
    "[3] 2x no cartão\n",
    "[4] 3x ou mais no cartão''')\n",
    "opção = int(input('Qual é a opção? '))\n",
    "if opção == 1:\n",
    "    total = preço - (preço * 10 / 100)\n",
    "elif opção == 2:\n",
    "    total = preço - (preço * 5 / 100)\n",
    "elif opção == 3:\n",
    "    total = preço\n",
    "    parcela = total / 2\n",
    "    print('Sua compra de R${:.2f} será parcelada em 2x de R${:.2f}'.format(preço, parcela))\n",
    "elif opção == 4:\n",
    "    total = preço + (preço * 20 / 100)\n",
    "    totparc = int(input('Quantas parcelas?'))\n",
    "    parcela =  total / totparc\n",
    "    print('Sua compra será parcelada em {}x de R${:.2f} COM JUROS'.format(totparc, parcela))\n",
    "else:\n",
    "    total = 0\n",
    "    print('OPÇÃO INVÁLIDA, TENTE NOVAMENTE!')\n",
    "print('Sua compra de R${:.2f} vai custar {:.2f} no final.'.format(preço, total))"
   ]
  },
  {
   "cell_type": "markdown",
   "metadata": {},
   "source": [
    "# 45"
   ]
  },
  {
   "cell_type": "code",
   "execution_count": null,
   "metadata": {},
   "outputs": [],
   "source": [
    "#45 - Crie um programa que faça o computador jogar Jokenpô com você."
   ]
  },
  {
   "cell_type": "code",
   "execution_count": 38,
   "metadata": {},
   "outputs": [
    {
     "name": "stdout",
     "output_type": "stream",
     "text": [
      "Pedra, Papel ou Tesoura?Pedra\n",
      "JOOO\n",
      "KEEN\n",
      "PÔÔÔ\n",
      "3\n"
     ]
    }
   ],
   "source": [
    "from random import randint\n",
    "from time import sleep\n",
    "num = randint(1,3)\n",
    "if num == 1:\n",
    "    Pedra > Tesoura and Pedra < Papel\n",
    "elif num == 2:\n",
    "    Papel > Pedra and Papel < Tesoura\n",
    "elif num == 3:    \n",
    "    Tesoura > Papel and Tesoura < Pedra\n",
    "jogada = str(input('Pedra, Papel ou Tesoura?'))\n",
    "print('JOOO')\n",
    "sleep(1)\n",
    "print('KEEN')\n",
    "sleep(1)\n",
    "print('PÔÔÔ')\n",
    "if num == 1:\n",
    "    num == 'Pedra'\n",
    "    print(num)\n",
    "elif num == 2:\n",
    "    num == 'Papel'\n",
    "    print(num)\n",
    "else:\n",
    "    num == 'Tesoura'\n",
    "    print(num)"
   ]
  },
  {
   "cell_type": "code",
   "execution_count": null,
   "metadata": {},
   "outputs": [],
   "source": []
  }
 ],
 "metadata": {
  "kernelspec": {
   "display_name": "Python 3",
   "language": "python",
   "name": "python3"
  },
  "language_info": {
   "codemirror_mode": {
    "name": "ipython",
    "version": 3
   },
   "file_extension": ".py",
   "mimetype": "text/x-python",
   "name": "python",
   "nbconvert_exporter": "python",
   "pygments_lexer": "ipython3",
   "version": "3.6.5"
  }
 },
 "nbformat": 4,
 "nbformat_minor": 2
}
