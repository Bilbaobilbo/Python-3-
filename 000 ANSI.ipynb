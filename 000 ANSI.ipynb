{
 "cells": [
  {
   "cell_type": "code",
   "execution_count": 1,
   "metadata": {},
   "outputs": [
    {
     "name": "stdout",
     "output_type": "stream",
     "text": [
      "\u001b[1mStyle\u001b[m\n",
      "\u001b[0mOlá\u001b[m\n",
      "\u001b[1mOlá\u001b[m\n",
      "\u001b[4mOlá\u001b[m\n",
      "\u001b[7mOlá\u001b[m\n",
      "-=-=-=-=-=-=-=-=-=-=\n",
      "\u001b[1mText\u001b[m\n",
      "\u001b[30mOlá\u001b[m\n",
      "\u001b[31mOlá\u001b[m\n",
      "\u001b[32mOlá\u001b[m\n",
      "\u001b[33mOlá\u001b[m\n",
      "\u001b[34mOlá\u001b[m\n",
      "\u001b[35mOlá\u001b[m\n",
      "\u001b[36mOlá\u001b[m\n",
      "\u001b[37mOlá\u001b[m\n",
      "-=-=-=-=-=-=-=-=-=-=\n",
      "\u001b[1mBack\u001b[m\n",
      "\u001b[40mOlá\u001b[m\n",
      "\u001b[41mOlá\u001b[m\n",
      "\u001b[42mOlá\u001b[m\n",
      "\u001b[43mOlá\u001b[m\n",
      "\u001b[44mOlá\u001b[m\n",
      "\u001b[45mOlá\u001b[m\n",
      "\u001b[46mOlá\u001b[m\n",
      "\u001b[47mOlá\u001b[m\n"
     ]
    }
   ],
   "source": [
    "print('\\033[1mStyle\\033[m')\n",
    "print('\\033[0mOlá\\033[m') #Sem formatação\n",
    "print('\\033[1mOlá\\033[m') #Negrito\n",
    "print('\\033[4mOlá\\033[m') #Sublinhado\n",
    "print('\\033[7mOlá\\033[m') #Cores invertidas (das palavras e do fundo)\n",
    "print('-='*10)\n",
    "print('\\033[1mText\\033[m') \n",
    "print('\\033[30mOlá\\033[m') #Branco\n",
    "print('\\033[31mOlá\\033[m') #Vermelho\n",
    "print('\\033[32mOlá\\033[m') #Verde\n",
    "print('\\033[33mOlá\\033[m') #Amarelo\n",
    "print('\\033[34mOlá\\033[m') #Azul\n",
    "print('\\033[35mOlá\\033[m') #Lilás\n",
    "print('\\033[36mOlá\\033[m') #Ciano\n",
    "print('\\033[37mOlá\\033[m') #Cinza\n",
    "print('-='*10)\n",
    "print('\\033[1mBack\\033[m') \n",
    "print('\\033[40mOlá\\033[m') #Branco\n",
    "print('\\033[41mOlá\\033[m') #Vermelho\n",
    "print('\\033[42mOlá\\033[m') #Verde\n",
    "print('\\033[43mOlá\\033[m') #Amarelo\n",
    "print('\\033[44mOlá\\033[m') #Azul\n",
    "print('\\033[45mOlá\\033[m') #Lilás\n",
    "print('\\033[46mOlá\\033[m') #Ciano\n",
    "print('\\033[47mOlá\\033[m') #Cinza"
   ]
  },
  {
   "cell_type": "code",
   "execution_count": null,
   "metadata": {},
   "outputs": [],
   "source": [
    "\\033[style, text, back m"
   ]
  },
  {
   "cell_type": "code",
   "execution_count": null,
   "metadata": {},
   "outputs": [],
   "source": [
    "\\033[0 ; 33 ; 44 m"
   ]
  },
  {
   "cell_type": "code",
   "execution_count": null,
   "metadata": {},
   "outputs": [],
   "source": [
    "\\033[0;30;41m\n",
    "\\033[4;33;44m\n",
    "\\033[1;35;43m\n",
    "\\033[30;42m\n",
    "\\033[m\n",
    "\\33[7;30m"
   ]
  },
  {
   "cell_type": "code",
   "execution_count": 2,
   "metadata": {},
   "outputs": [
    {
     "name": "stdout",
     "output_type": "stream",
     "text": [
      "\u001b[4;30;45mOlá Mundo!\u001b[m\n",
      "\u001b[1;31;43mOlá Mundo!\u001b[m\n",
      "\u001b[7;30mOlá Mundo!\u001b[m\n",
      "\u001b[7;33;mOlá Mundo!\u001b[m\n"
     ]
    }
   ],
   "source": [
    "print('\\033[4;30;45mOlá Mundo!\\033[m')\n",
    "print('\\033[1;31;43mOlá Mundo!\\033[m')\n",
    "print('\\033[7;30mOlá Mundo!\\033[m')\n",
    "print('\\033[7;33;mOlá Mundo!\\033[m')"
   ]
  },
  {
   "cell_type": "code",
   "execution_count": 3,
   "metadata": {},
   "outputs": [
    {
     "name": "stdout",
     "output_type": "stream",
     "text": [
      "Os valores são \u001b[32m3\u001b[m e \u001b[31m5\u001b[m!!!\n"
     ]
    }
   ],
   "source": [
    "a = 3\n",
    "b = 5\n",
    "print('Os valores são \\033[32m{}\\033[m e \\033[31m{}\\033[m!!!'.format(a, b))"
   ]
  },
  {
   "cell_type": "code",
   "execution_count": 7,
   "metadata": {},
   "outputs": [
    {
     "name": "stdout",
     "output_type": "stream",
     "text": [
      "Olá! Muito Prazer em te conhecer, \u001b[4;34mMarcos\u001b[m!!\n"
     ]
    }
   ],
   "source": [
    "nome = 'Marcos'\n",
    "print('Olá! Muito Prazer em te conhecer, {}{}{}!!'.format('\\033[4;34m', nome, '\\033[m'))"
   ]
  },
  {
   "cell_type": "code",
   "execution_count": 22,
   "metadata": {},
   "outputs": [
    {
     "name": "stdout",
     "output_type": "stream",
     "text": [
      "Olá! Muito Prazer em te conhecer, \u001b[7;30mMarcos\u001b[m!!\n"
     ]
    }
   ],
   "source": [
    "nome = 'Marcos'\n",
    "cores = {'limpa':'\\033[m', 'azul':'\\033[34m', 'amarelo':'\\033[33m', 'pretoebranco':'\\033[7;30m'}\n",
    "print('Olá! Muito Prazer em te conhecer, {}{}{}!!'.format(cores['pretoebranco'], nome, cores['limpa']))"
   ]
  }
 ],
 "metadata": {
  "kernelspec": {
   "display_name": "Python 3",
   "language": "python",
   "name": "python3"
  },
  "language_info": {
   "codemirror_mode": {
    "name": "ipython",
    "version": 3
   },
   "file_extension": ".py",
   "mimetype": "text/x-python",
   "name": "python",
   "nbconvert_exporter": "python",
   "pygments_lexer": "ipython3",
   "version": "3.6.5"
  }
 },
 "nbformat": 4,
 "nbformat_minor": 2
}
