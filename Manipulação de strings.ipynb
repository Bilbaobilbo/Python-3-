{
 "cells": [
  {
   "cell_type": "markdown",
   "metadata": {},
   "source": [
    "# TEORIA"
   ]
  },
  {
   "cell_type": "code",
   "execution_count": null,
   "metadata": {},
   "outputs": [],
   "source": [
    "##fatiamento de strings"
   ]
  },
  {
   "cell_type": "code",
   "execution_count": null,
   "metadata": {},
   "outputs": [],
   "source": [
    "frase = 'Curso em Vídeo Python'\n",
    "print(frase[9:21:2])\n",
    "print(frase[:5])\n",
    "print(frase[15:])\n",
    "print(frase[9::3])"
   ]
  },
  {
   "cell_type": "code",
   "execution_count": null,
   "metadata": {},
   "outputs": [],
   "source": [
    "##Análise de strings"
   ]
  },
  {
   "cell_type": "code",
   "execution_count": null,
   "metadata": {},
   "outputs": [],
   "source": [
    "frase = 'Curso em Vídeo Python'\n",
    "##conta quantos caracteres existem na string\n",
    "print(len(frase))\n",
    "##conta quantos caracteres ou palavras desse tipo existem na string\n",
    "print(frase.count('o'))\n",
    "##conta quantos caracteres ou palavras desse tipo existem em um determinado trecho da string\n",
    "print(frase.count('o',0,13))\n",
    "##mostra onde começa a parte da string\n",
    "print(frase.find(\"deo\"))\n",
    "##Caso não encontre na string\n",
    "print(frase.find(\"max\"))\n",
    "##Verifica se existe a palavra na string\n",
    "'Curso' in frase"
   ]
  },
  {
   "cell_type": "code",
   "execution_count": null,
   "metadata": {},
   "outputs": [],
   "source": [
    "##transformação de string"
   ]
  },
  {
   "cell_type": "code",
   "execution_count": null,
   "metadata": {},
   "outputs": [],
   "source": [
    "frase = 'Curso em vídeo Python'\n",
    "print(frase)\n",
    "##substitui uma palavra da string por outra desejada\n",
    "print(frase.replace('Python', 'Android'))\n",
    "##transforma todos o caracteres para maiúsculas ou minusculas respectivamente\n",
    "print(frase.upper())\n",
    "print(frase.lower())\n",
    "#Faz somente o primeiro caracter ficar maiúsculo, deixando todos os outros minúsculos\n",
    "print(frase.capitalize())\n",
    "##deixa todas as palavras com inicial maiúsculas\n",
    "print(frase.title())"
   ]
  },
  {
   "cell_type": "code",
   "execution_count": null,
   "metadata": {},
   "outputs": [],
   "source": [
    "##Manipulação de espaços inúteis"
   ]
  },
  {
   "cell_type": "code",
   "execution_count": null,
   "metadata": {},
   "outputs": [],
   "source": [
    "frase = '   Aprenda Python  '\n",
    "print(frase)\n",
    "##Remove todos os espaços inúteis do começo e do final da string\n",
    "print(frase.strip())\n",
    "##Remove os espaços inúteis a direita e a esquerda respectivamente\n",
    "print(frase.rstrip())\n",
    "print(frase.lstrip())"
   ]
  },
  {
   "cell_type": "code",
   "execution_count": null,
   "metadata": {},
   "outputs": [],
   "source": [
    "##Divisão e Junção de string"
   ]
  },
  {
   "cell_type": "code",
   "execution_count": null,
   "metadata": {},
   "outputs": [],
   "source": [
    "frase = 'Curso em vídeo Python'\n",
    "print(frase)\n",
    "##divide a string em uma LISTA com base nos espaços entre as palavras\n",
    "print(frase.split())\n",
    "##Junta as strings de uma lista em uma única string\n",
    "lista =['Curso', 'em', 'vídeo', 'Python']\n",
    "' '.join(lista)"
   ]
  },
  {
   "cell_type": "markdown",
   "metadata": {},
   "source": [
    "# EXERCÍCIOS"
   ]
  },
  {
   "cell_type": "code",
   "execution_count": null,
   "metadata": {},
   "outputs": [],
   "source": [
    "##22 - Crie um programa que leia o nome completo de uma pessoa e mostre:\n",
    "##  *O nome com todas as letras maiúsculas;\n",
    "    \n",
    "##  *O nome com todas minúsculas;\n",
    "    \n",
    "##  *Quantas letras tem o nome (sem contar os espaços);\n",
    "    \n",
    "##  *Quantas letras tem o primeiro nome "
   ]
  },
  {
   "cell_type": "code",
   "execution_count": null,
   "metadata": {},
   "outputs": [],
   "source": [
    "nome =  str(input(\"Qual é o seu nome? \"))\n",
    "print(nome.upper())\n",
    "print(nome.lower())\n",
    "nomeseme = (nome.replace (\" \", \"\"))\n",
    "print(\"O nome tem {} caracteres sem contar os espaços\".format(len(nomeseme)))\n",
    "\n",
    "\n"
   ]
  },
  {
   "cell_type": "code",
   "execution_count": null,
   "metadata": {},
   "outputs": [],
   "source": [
    "##22 - Correção\n",
    "nome =  str(input(\"Qual é o seu nome? \"))\n",
    "print(nome.upper())\n",
    "print(nome.lower())\n",
    "nomeseme = (nome.replace (\" \", \"\"))\n",
    "print(\"O nome tem {} caracteres sem contar os espaços\".format(len(nomeseme)))\n",
    "##############\n",
    "print(\"O seu primeiro nome tem {} letras\".format(nome.find(\" \")))\n",
    "#########\n",
    "separa = nome.split()\n",
    "print(\"O seu primeiro nome é {} e tem {} letras\".format(separa[0], len(separa[0])))"
   ]
  },
  {
   "cell_type": "code",
   "execution_count": null,
   "metadata": {},
   "outputs": [],
   "source": [
    "##23 - Faça um programa que leia um número de 0 a 9999 e mostre na tela cada um dos dígitos separados\n",
    "\n",
    "## EX: Digite um número: 1834\n",
    "    \n",
    "## unidade: 4\n",
    "## dezena: 3\n",
    "## centena: 8\n",
    "## milhar: 1"
   ]
  },
  {
   "cell_type": "code",
   "execution_count": null,
   "metadata": {},
   "outputs": [],
   "source": [
    "num = str(input(\"Digite um número de '0' a '9999': \"))\n",
    "print(\"Unidade: {}\".format(num[3]))\n",
    "print(\"Dezena: {}\".format(num[2]))\n",
    "print(\"Centena: {}\".format(num[1]))\n",
    "print(\"Milhar: {}\".format(num[0]))"
   ]
  },
  {
   "cell_type": "code",
   "execution_count": null,
   "metadata": {},
   "outputs": [],
   "source": [
    "##23 - Correção\n",
    "num  = int(input(\"Digite um número de 0 a 9999: \"))\n",
    "u = num // 1 % 10\n",
    "d = num // 10 % 10\n",
    "c = num // 100 % 10\n",
    "m = num // 1000 % 10\n",
    "print('Unidade: {}'.format(u))\n",
    "print('Dezena: {}'.format(d))\n",
    "print('Centena: {}'.format(c))\n",
    "print('Milhar: {}'.format(m))\n"
   ]
  },
  {
   "cell_type": "code",
   "execution_count": null,
   "metadata": {},
   "outputs": [],
   "source": [
    "##24 - Crie um programa que leia o nome de uma cidade e diga se ela começa ou não com o nome \"Santo\"."
   ]
  },
  {
   "cell_type": "code",
   "execution_count": null,
   "metadata": {},
   "outputs": [],
   "source": [
    "cidade = input(\"Digite o nome da sua cidade: \")\n",
    "\"Santo\" in cidade"
   ]
  },
  {
   "cell_type": "code",
   "execution_count": null,
   "metadata": {},
   "outputs": [],
   "source": [
    "##24 - Correção\n",
    "cid = str(input(\"Qual cidade você nasceu? \")).strip()\n",
    "print(cid[:5].title() == 'Santo')"
   ]
  },
  {
   "cell_type": "code",
   "execution_count": null,
   "metadata": {},
   "outputs": [],
   "source": [
    "##25 - Crie um programa que leia o nome de uma pessoa e diga se tem \"Silva\" no nome."
   ]
  },
  {
   "cell_type": "code",
   "execution_count": null,
   "metadata": {},
   "outputs": [],
   "source": [
    "nome = input(\"Qual o seu nome? \")\n",
    "\"Silva\" in nome"
   ]
  },
  {
   "cell_type": "code",
   "execution_count": null,
   "metadata": {},
   "outputs": [],
   "source": [
    "##25 - Correção\n",
    "nome = str(input(\"Qual o seu nome completo? \")).strip()\n",
    "print(\"Seu nome tem Silva? {}\".format(\"Silva\" in nome.title()))"
   ]
  },
  {
   "cell_type": "code",
   "execution_count": null,
   "metadata": {},
   "outputs": [],
   "source": [
    "##26 - Faça um programa que leia uma frase pelo teclado e mostre:\n",
    "##    *Quantas vezes aparece a letra \"a\";\n",
    "    \n",
    "##    *Em que posição ela aparece pela primeira vez;\n",
    "    \n",
    "##    *Em que posição ela aparece pela última vez."
   ]
  },
  {
   "cell_type": "code",
   "execution_count": null,
   "metadata": {},
   "outputs": [],
   "source": [
    "frase = input(\"Escreva uma frase: \")\n",
    "print(frase.count(\"a\"))\n"
   ]
  },
  {
   "cell_type": "code",
   "execution_count": null,
   "metadata": {},
   "outputs": [],
   "source": [
    "##26 -  Correção\n",
    "frase = str(input(\"Digite uma frase: \")).upper().strip()\n",
    "print(\"Existem {} letras A na frase\".format(frase.count(\"A\")))\n",
    "print(\"A letra A aparece pela primeira vez na posição {}\".format(frase.find('A')+1))\n",
    "print(\"A letra A aparece pela última vez na posição {}\".format(frase.rfind(\"A\")+1))"
   ]
  },
  {
   "cell_type": "code",
   "execution_count": null,
   "metadata": {},
   "outputs": [],
   "source": [
    "##27 - Faça um programa que leia o nome completo de uma pessoa, mostrando em seguida o primeiro e ultimo nome separadamente.\n",
    "\n",
    "## EX: Ana Maria Braga\n",
    "## primeiro: Ana\n",
    "## último: Braga"
   ]
  },
  {
   "cell_type": "code",
   "execution_count": null,
   "metadata": {},
   "outputs": [],
   "source": [
    "n =  str(input(\"Qual é o seu nome? \")).strip()\n",
    "nome = n.split()\n",
    "print(\"O seu primeiro nome é {}\".format(nome[0]))\n",
    "print(\"O seu último nome é {}\".format(nome[len(nome)-1]))"
   ]
  },
  {
   "cell_type": "code",
   "execution_count": null,
   "metadata": {},
   "outputs": [],
   "source": []
  }
 ],
 "metadata": {
  "kernelspec": {
   "display_name": "Python 3",
   "language": "python",
   "name": "python3"
  },
  "language_info": {
   "codemirror_mode": {
    "name": "ipython",
    "version": 3
   },
   "file_extension": ".py",
   "mimetype": "text/x-python",
   "name": "python",
   "nbconvert_exporter": "python",
   "pygments_lexer": "ipython3",
   "version": "3.6.5"
  }
 },
 "nbformat": 4,
 "nbformat_minor": 2
}
