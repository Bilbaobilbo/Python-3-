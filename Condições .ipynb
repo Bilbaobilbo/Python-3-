{
 "cells": [
  {
   "cell_type": "markdown",
   "metadata": {},
   "source": [
    "# TEORIA"
   ]
  },
  {
   "cell_type": "code",
   "execution_count": null,
   "metadata": {},
   "outputs": [],
   "source": [
    "##if / else"
   ]
  },
  {
   "cell_type": "code",
   "execution_count": 4,
   "metadata": {},
   "outputs": [
    {
     "name": "stdout",
     "output_type": "stream",
     "text": [
      "Quantos anos tem seu carro? 4\n",
      "Carro velho\n",
      "--FIM--\n"
     ]
    }
   ],
   "source": [
    "tempo = int(input('Quantos anos tem seu carro? '))\n",
    "if tempo <=3:\n",
    "    print('Carro novo')\n",
    "else:\n",
    "    print('Carro velho')\n",
    "print('--FIM--')"
   ]
  },
  {
   "cell_type": "code",
   "execution_count": null,
   "metadata": {},
   "outputs": [],
   "source": [
    "##Condição Simplificada\n",
    "##Pode ficar meio confuso para encontrar os blocos verdadeiros ou falsos"
   ]
  },
  {
   "cell_type": "code",
   "execution_count": 3,
   "metadata": {},
   "outputs": [
    {
     "name": "stdout",
     "output_type": "stream",
     "text": [
      "Quantos anos tem seu carro? 1\n",
      "carro novo\n",
      "--FIM--\n"
     ]
    }
   ],
   "source": [
    "tempo = int(input('Quantos anos tem seu carro? '))\n",
    "print('carro novo' if tempo <=3 else'carro velho')\n",
    "print('--FIM--')"
   ]
  },
  {
   "cell_type": "markdown",
   "metadata": {},
   "source": [
    "# PRÁTICA"
   ]
  },
  {
   "cell_type": "code",
   "execution_count": 9,
   "metadata": {},
   "outputs": [
    {
     "name": "stdout",
     "output_type": "stream",
     "text": [
      "Qual é o seu nome? Marcos\n",
      "Seu nome é tão normal...\n",
      "Bom dia, Marcos! \n"
     ]
    }
   ],
   "source": [
    "nome = str(input('Qual é o seu nome? ')).title()\n",
    "if nome == 'Igor':\n",
    "    print('Que nome lindo você tem!')\n",
    "else:\n",
    "    print('Seu nome é tão normal...')\n",
    "    print('Bom dia, {}! '.format(nome))"
   ]
  },
  {
   "cell_type": "code",
   "execution_count": 12,
   "metadata": {
    "scrolled": true
   },
   "outputs": [
    {
     "name": "stdout",
     "output_type": "stream",
     "text": [
      "Digite a primeira nota: 5.7\n",
      "Digite a segunda nota4.3\n",
      "A sua média foi 5.0\n",
      "Sua média foi ruim! Estude mais!\n"
     ]
    }
   ],
   "source": [
    "n1 = float(input('Digite a primeira nota: '))\n",
    "n2 = float(input('Digite a segunda nota: '))\n",
    "n = (n1 + n2)/2\n",
    "print('A sua média foi {:.1f}'.format(n))\n",
    "if n >=6:\n",
    "    print('Parabéns!! Sua média foi boa!')\n",
    "else:\n",
    "    print('Sua média foi ruim! Estude mais!')"
   ]
  },
  {
   "cell_type": "markdown",
   "metadata": {},
   "source": [
    "# EXERCÍCIOS"
   ]
  },
  {
   "cell_type": "markdown",
   "metadata": {},
   "source": [
    "# 28"
   ]
  },
  {
   "cell_type": "code",
   "execution_count": null,
   "metadata": {},
   "outputs": [],
   "source": [
    "#28 -  Escreva um programa que faça o computador pensar em um número inteiro entre 0 e 5 e peça para o usuario \n",
    "#tentar descobrir o número escolhido pelo computador.\n",
    "\n",
    "#O programa deverá escrever se o usuário venceu ou perdeu."
   ]
  },
  {
   "cell_type": "code",
   "execution_count": 7,
   "metadata": {},
   "outputs": [
    {
     "name": "stdout",
     "output_type": "stream",
     "text": [
      "Você deve acertar o número escolhido pelo programa!!\n",
      "Digite um número de 0 a 5: 5\n",
      "Parabéns, você acertou o número\n"
     ]
    }
   ],
   "source": [
    "import random\n",
    "num = random.randint(0, 5)\n",
    "print('Você deve acertar o número escolhido pelo programa!!')\n",
    "numero = int(input('Digite um número de 0 a 5: '))\n",
    "if numero == num:\n",
    "    print('Parabéns, você acertou o número!')\n",
    "else:\n",
    "    print('O número certo era {}, tente novamente!'.format(num))"
   ]
  },
  {
   "cell_type": "code",
   "execution_count": 4,
   "metadata": {},
   "outputs": [
    {
     "name": "stdout",
     "output_type": "stream",
     "text": [
      "-=--=--=--=--=--=--=--=--=--=--=--=--=--=--=--=--=--=--=--=-\n",
      "Vou pensar em um número entre 0 e 5. Tente adivinhar!\n",
      "-=--=--=--=--=--=--=--=--=--=--=--=--=--=--=--=--=--=--=--=-\n",
      "Em que número pensei? 6\n",
      "PROCESSANDO...\n",
      "GANHEI! EU PENSEI NO NÚMERO 4 E NÃO NO 6!\n"
     ]
    }
   ],
   "source": [
    "##Correção\n",
    "from random import randint\n",
    "from time import sleep\n",
    "computador = randint(0, 5)\n",
    "print('-=-' * 20)\n",
    "print('Vou pensar em um número entre 0 e 5. Tente adivinhar!')\n",
    "print('-=-' * 20)\n",
    "jogador = int(input('Em que número pensei? '))\n",
    "print('PROCESSANDO...')\n",
    "sleep(2)\n",
    "if jogador == computador:\n",
    "    print('PARABÉNS, VOCÊ CONSEGUIU ME VENCER!!')\n",
    "else:\n",
    "    print('GANHEI! EU PENSEI NO NÚMERO {} E NÃO NO {}!'.format(computador, jogador))"
   ]
  },
  {
   "cell_type": "markdown",
   "metadata": {},
   "source": [
    "# 29"
   ]
  },
  {
   "cell_type": "code",
   "execution_count": 4,
   "metadata": {},
   "outputs": [],
   "source": [
    "#29 - Escreva um programa que leia a velociade de um carro. Se ele ultrapassar 80km/h, mostre uma mensagem dizendo que \n",
    "#ele foi multado.\n",
    "\n",
    "#A multa vai custar R$7.00 para cada km acima do limite."
   ]
  },
  {
   "cell_type": "code",
   "execution_count": 67,
   "metadata": {},
   "outputs": [
    {
     "name": "stdout",
     "output_type": "stream",
     "text": [
      "Velocidade do veículo em km/h: 120\n",
      "Parabéns animal, você foi multado em R$280.00!\n"
     ]
    }
   ],
   "source": [
    "vel = int(input('Velocidade do veículo em km/h: '))\n",
    "kmMais = vel - 80\n",
    "multa = kmMais * 7\n",
    "if multa >= 1:\n",
    "          print(\"Parabéns animal, você foi multado em R${:.2f}!\".format(multa))\n",
    "else:\n",
    "    print('Estava dentro da velocidade limíte')"
   ]
  },
  {
   "cell_type": "code",
   "execution_count": 5,
   "metadata": {
    "scrolled": true
   },
   "outputs": [
    {
     "name": "stdout",
     "output_type": "stream",
     "text": [
      "Qual é a velocidade atual do carro? 120\n",
      "Multado! Você excedeu o limite de velocidade permitido de 80km/h\n",
      "Você deve pagar uma multa de 280.00\n",
      "Tenha um bom dia! Dirija com segurança!\n"
     ]
    }
   ],
   "source": [
    "##Correção\n",
    "velocidade = float(input('Qual é a velocidade atual do carro? '))\n",
    "if velocidade > 80:\n",
    "    print('Multado! Você excedeu o limite de velocidade permitido de 80km/h')\n",
    "    multa = (velocidade - 80) * 7 \n",
    "    print('Você deve pagar uma multa de {:.2f}'.format(multa))\n",
    "print('Tenha um bom dia! Dirija com segurança!')"
   ]
  },
  {
   "cell_type": "markdown",
   "metadata": {},
   "source": [
    "# 30"
   ]
  },
  {
   "cell_type": "code",
   "execution_count": 66,
   "metadata": {},
   "outputs": [],
   "source": [
    "#30 - Crie um programa que leia um número inteiro qualquer e mostre se ele é PAR ou ÍMPAR."
   ]
  },
  {
   "cell_type": "code",
   "execution_count": 15,
   "metadata": {},
   "outputs": [
    {
     "name": "stdout",
     "output_type": "stream",
     "text": [
      "Digite um número: 45\n",
      "O número é ímpar\n"
     ]
    }
   ],
   "source": [
    "num = int(input('Digite um número: '))\n",
    "if num %2 == 0:\n",
    "    pirnt('O número é par!')\n",
    "else:\n",
    "    print('O número é ímpar')"
   ]
  },
  {
   "cell_type": "code",
   "execution_count": 7,
   "metadata": {},
   "outputs": [
    {
     "name": "stdout",
     "output_type": "stream",
     "text": [
      "Me diga um número qualquer: 457\n",
      "O número 457 é ímpar\n"
     ]
    }
   ],
   "source": [
    "#Correção\n",
    "número = int(input('Me diga um número qualquer: '))\n",
    "resultado = número % 2\n",
    "if resultado == 0:\n",
    "    print('O número {} é par'.format(número))\n",
    "else:\n",
    "    print('O número {} é ímpar'.format(número))"
   ]
  },
  {
   "cell_type": "markdown",
   "metadata": {},
   "source": [
    "# 31"
   ]
  },
  {
   "cell_type": "code",
   "execution_count": null,
   "metadata": {},
   "outputs": [],
   "source": [
    "#31 - Desenvolva um programa que pergunte uma distância de uma viagem em km. Calule o preço da \n",
    "#passagem, cobrando R$0.50 por km para viagens de até 200Km e R$0.45 para viagens mais longas."
   ]
  },
  {
   "cell_type": "code",
   "execution_count": 19,
   "metadata": {},
   "outputs": [
    {
     "name": "stdout",
     "output_type": "stream",
     "text": [
      "Qual a distância a ser percorrida em Km? 201\n",
      "O valor a ser pago é R$90.45.\n"
     ]
    }
   ],
   "source": [
    "dist = int(input('Qual a distância a ser percorrida em Km? '))\n",
    "if dist <= 200:\n",
    "    print('O valor a ser pago é R${}.'.format(dist * 0.50))\n",
    "else:\n",
    "    print('O valor a ser pago é R${}.'.format(dist * 0.45))"
   ]
  },
  {
   "cell_type": "code",
   "execution_count": 10,
   "metadata": {},
   "outputs": [
    {
     "name": "stdout",
     "output_type": "stream",
     "text": [
      "Qual é a distância da sua viagem? 1000\n",
      "Você está prestes a começar uma viagem de 1000.0km.\n",
      "E o proço da sua passagem será de R$450.00\n"
     ]
    }
   ],
   "source": [
    "#Correção pt1\n",
    "distância = float(input('Qual é a distância da sua viagem? '))\n",
    "print('Você está prestes a começar uma viagem de {}km.'.format(distância))\n",
    "if distância < 200:\n",
    "    preço = distância * 0.50\n",
    "else:\n",
    "    preço = distância * 0.45\n",
    "print('E o proço da sua passagem será de R${:.2f}'.format(preço))\n"
   ]
  },
  {
   "cell_type": "code",
   "execution_count": 12,
   "metadata": {},
   "outputs": [
    {
     "name": "stdout",
     "output_type": "stream",
     "text": [
      "Qual é a distância da sua viagem? 1000\n",
      "Você está prestes a começar uma viagem de 1000.0km.\n",
      "E o proço da sua passagem será de R$450.00\n"
     ]
    }
   ],
   "source": [
    "#Correção pt2\n",
    "distância = float(input('Qual é a distância da sua viagem? '))\n",
    "print('Você está prestes a começar uma viagem de {}km.'.format(distância))\n",
    "preço = distância * 0.50 if distância <= 200 else distância * 0.45\n",
    "print('E o proço da sua passagem será de R${:.2f}'.format(preço))"
   ]
  },
  {
   "cell_type": "markdown",
   "metadata": {},
   "source": [
    "# 32"
   ]
  },
  {
   "cell_type": "code",
   "execution_count": 18,
   "metadata": {},
   "outputs": [],
   "source": [
    "#32 - Faça um programa que leia um ano qualquer e mostre se ele é bissexto."
   ]
  },
  {
   "cell_type": "code",
   "execution_count": 16,
   "metadata": {},
   "outputs": [
    {
     "name": "stdout",
     "output_type": "stream",
     "text": [
      "Descubra se o ano é bissexto: 0\n",
      "O ano é bissexto\n"
     ]
    }
   ],
   "source": [
    "ano = int(input('Descubra se o ano é bissexto: '))\n",
    "if ano %4 == 0:\n",
    "    print('O ano é bissexto')\n",
    "else: \n",
    "    print('O ano não é bissexto')"
   ]
  },
  {
   "cell_type": "code",
   "execution_count": 25,
   "metadata": {},
   "outputs": [
    {
     "name": "stdout",
     "output_type": "stream",
     "text": [
      "Que ano quer analizar? Coloque 0 para analizar o ano atual: 0\n",
      "O ano 2019 não é bissexto\n"
     ]
    }
   ],
   "source": [
    "#Correção\n",
    "from datetime import date\n",
    "ano = int(input('Que ano quer analizar? Coloque 0 para analizar o ano atual: '))\n",
    "if ano == 0:\n",
    "    ano = date.today().year\n",
    "if ano %4 == 0 and ano % 100 != 0 or ano % 400 == 0:\n",
    "    print('O ano {} é bissexto'.format(ano))\n",
    "else:\n",
    "    print('O ano {} não é bissexto'.format(ano))"
   ]
  },
  {
   "cell_type": "markdown",
   "metadata": {},
   "source": [
    "# 33"
   ]
  },
  {
   "cell_type": "code",
   "execution_count": null,
   "metadata": {},
   "outputs": [],
   "source": [
    "#33 -  Faça um programa que leia três números e mostre qual é o maior e qual é o menor."
   ]
  },
  {
   "cell_type": "code",
   "execution_count": 71,
   "metadata": {},
   "outputs": [
    {
     "name": "stdout",
     "output_type": "stream",
     "text": [
      "Escreva o primeiro número: 2\n",
      "Escreva o segundo número: 9\n",
      "Escreva o terceiro número: 7\n",
      "2.0 é o menor número\n",
      "9.0 é o maior número\n",
      "7.0 é o maior número\n"
     ]
    }
   ],
   "source": [
    "n1 = float(input('Escreva o primeiro número: '))\n",
    "n2 = float(input('Escreva o segundo número: '))\n",
    "n3 = float(input('Escreva o terceiro número: '))\n",
    "if n1 > n2 and n3:\n",
    "    print('{} é o maior número'.format(n1))\n",
    "else:\n",
    "    n1 < n2 and n3\n",
    "    print('{} é o menor número'.format(n1))\n",
    "if n2 > n1 and n3:\n",
    "    print('{} é o maior número'.format(n2))\n",
    "else:\n",
    "    n2 < n1 and n3\n",
    "    print('{} é o menor número'.format(n2))\n",
    "if n3 > n1 and n2:\n",
    "    print('{} é o maior número'.format(n3))\n",
    "else:\n",
    "    print('{} é o menor número'.format(n3))\n",
    "                 "
   ]
  },
  {
   "cell_type": "code",
   "execution_count": 29,
   "metadata": {},
   "outputs": [
    {
     "name": "stdout",
     "output_type": "stream",
     "text": [
      "Primeiro valor: 7\n",
      "Segundo valor: 6\n",
      "Terceiro valor: 4\n",
      "O menor número é 4\n",
      "O maior número é 7\n"
     ]
    }
   ],
   "source": [
    "#Correção\n",
    "a = int(input('Primeiro valor: '))\n",
    "b = int(input('Segundo valor: '))\n",
    "c = int(input('Terceiro valor: '))\n",
    "#Verificando qual é o menor:\n",
    "menor = a\n",
    "if b < a and b < c:\n",
    "    menor = b\n",
    "if c < a and c < b:\n",
    "    menor = c\n",
    "#Verificando qual é o maior:\n",
    "maior = a\n",
    "if b > a and b > c:\n",
    "    maior = b\n",
    "if c > a and c > b:\n",
    "    maior = c\n",
    "print('O menor número é {}'.format(menor))\n",
    "print('O maior número é {}'.format(maior))"
   ]
  },
  {
   "cell_type": "markdown",
   "metadata": {},
   "source": [
    "# 34"
   ]
  },
  {
   "cell_type": "code",
   "execution_count": 25,
   "metadata": {},
   "outputs": [],
   "source": [
    "#34 - Escreva um programa que pergunte o salário de um funcionário e caucule o valor do seu aumento.\n",
    "#Para salários superiores a R$1.250,00, caucule um aumento de 10%.\n",
    "#Para os inferiores ou iguais, o aumento é de 15%."
   ]
  },
  {
   "cell_type": "code",
   "execution_count": 32,
   "metadata": {
    "scrolled": true
   },
   "outputs": [
    {
     "name": "stdout",
     "output_type": "stream",
     "text": [
      "Valor do salário: 1000\n",
      "O salário aumentou em 15%, ficando em 1150.00. \n"
     ]
    }
   ],
   "source": [
    "sal = float(input('Valor do salário: '))\n",
    "aum =  sal / 100\n",
    "if sal >= 1251:\n",
    "    print('O salário aumentou em 10%, ficando em {:.2f}. '.format(sal + (aum*10)))\n",
    "else:\n",
    "    sal <= 1250\n",
    "    print('O salário aumentou em 15%, ficando em {:.2f}. '.format(sal + (aum*15)))"
   ]
  },
  {
   "cell_type": "code",
   "execution_count": 33,
   "metadata": {},
   "outputs": [
    {
     "name": "stdout",
     "output_type": "stream",
     "text": [
      "Qual é o salário do funcionário? 5000\n",
      "O salário era 5000.00 e agora é 5500.00\n"
     ]
    }
   ],
   "source": [
    "#Correção\n",
    "salário = float(input('Qual é o salário do funcionário? '))\n",
    "if salário <= 1250:\n",
    "    novo = salário + salário * 15 / 100\n",
    "else:\n",
    "    novo = salário + salário * 10 / 100\n",
    "print('O salário era {:.2f} e agora é {:.2f}'.format(salário, novo))"
   ]
  },
  {
   "cell_type": "markdown",
   "metadata": {},
   "source": [
    "# 35"
   ]
  },
  {
   "cell_type": "code",
   "execution_count": 14,
   "metadata": {},
   "outputs": [],
   "source": [
    "#35 - Desenvolva um programa que leia o comprimento de três retas e diga ao usuário se elas podem ou não formar um triângulo."
   ]
  },
  {
   "cell_type": "code",
   "execution_count": 41,
   "metadata": {},
   "outputs": [
    {
     "name": "stdout",
     "output_type": "stream",
     "text": [
      "Tamanho da Reta 1: 9\n",
      "Tamanho da Reta 2: 7\n",
      "Tamanho da Reta 3: 8\n",
      "É possível montar um triângulo.\n"
     ]
    }
   ],
   "source": [
    "a = float(input('Tamanho da Reta 1: '))\n",
    "b = float(input('Tamanho da Reta 2: '))\n",
    "c = float(input('Tamanho da Reta 3: '))\n",
    "\n",
    "if (b - c) < a < b+c and (a - c) < b < a+c and (a - b) < c < a+b:\n",
    "    print('É possível montar um triângulo.')\n",
    "else: \n",
    "    print('Não é possível montar um triângulo.')"
   ]
  },
  {
   "cell_type": "code",
   "execution_count": 40,
   "metadata": {},
   "outputs": [
    {
     "name": "stdout",
     "output_type": "stream",
     "text": [
      "Primeiro seguimento: 9\n",
      "Segundo seguimento: 7\n",
      "Terceiro seguimento: 8\n",
      "Os seguimentos acima PODEM FORMAR triângulo!\n"
     ]
    }
   ],
   "source": [
    "#Correção\n",
    "r1 = float(input('Primeiro seguimento: '))\n",
    "r2 = float(input('Segundo seguimento: '))\n",
    "r3 = float(input('Terceiro seguimento: '))\n",
    "if r1 < r2 + r3 and r2 < r1 + r3 and r3 < r1 + r2:\n",
    "    print('Os seguimentos acima PODEM FORMAR triângulo!')\n",
    "else: \n",
    "    print('Os seguimentos acima NÃO PODEM formar triângulo!')"
   ]
  },
  {
   "cell_type": "code",
   "execution_count": null,
   "metadata": {},
   "outputs": [],
   "source": []
  }
 ],
 "metadata": {
  "kernelspec": {
   "display_name": "Python 3",
   "language": "python",
   "name": "python3"
  },
  "language_info": {
   "codemirror_mode": {
    "name": "ipython",
    "version": 3
   },
   "file_extension": ".py",
   "mimetype": "text/x-python",
   "name": "python",
   "nbconvert_exporter": "python",
   "pygments_lexer": "ipython3",
   "version": "3.6.5"
  }
 },
 "nbformat": 4,
 "nbformat_minor": 2
}
