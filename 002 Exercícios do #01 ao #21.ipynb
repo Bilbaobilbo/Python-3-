{
 "cells": [
  {
   "cell_type": "markdown",
   "metadata": {},
   "source": [
    "# 01"
   ]
  },
  {
   "cell_type": "code",
   "execution_count": 1,
   "metadata": {},
   "outputs": [],
   "source": [
    "#01 - Crie um programa que escreva 'Olá, Mundo!' na tela."
   ]
  },
  {
   "cell_type": "code",
   "execution_count": 2,
   "metadata": {},
   "outputs": [
    {
     "name": "stdout",
     "output_type": "stream",
     "text": [
      "Olá, Mundo!\n"
     ]
    }
   ],
   "source": [
    "msg = 'Olá, Mundo!'\n",
    "print(msg)"
   ]
  },
  {
   "cell_type": "markdown",
   "metadata": {},
   "source": [
    "# 02"
   ]
  },
  {
   "cell_type": "code",
   "execution_count": 3,
   "metadata": {},
   "outputs": [],
   "source": [
    "#02 - Faça um programa que leia o nome de uma pessoa e mostre uma mensagem de boas-vindas."
   ]
  },
  {
   "cell_type": "code",
   "execution_count": 4,
   "metadata": {},
   "outputs": [
    {
     "name": "stdout",
     "output_type": "stream",
     "text": [
      "Digite o seu nome: Bilbaobilbo\n",
      "É um prazer te conhecer Bilbaobilbo!\n"
     ]
    }
   ],
   "source": [
    "nome = input('Digite o seu nome: ')\n",
    "print('É um prazer te conhecer {}!'.format(nome))"
   ]
  },
  {
   "cell_type": "markdown",
   "metadata": {},
   "source": [
    "# 03"
   ]
  },
  {
   "cell_type": "code",
   "execution_count": 5,
   "metadata": {},
   "outputs": [
    {
     "name": "stdout",
     "output_type": "stream",
     "text": [
      "Digite um número: 7\n",
      "Digite outro número: 9\n",
      "16\n"
     ]
    }
   ],
   "source": [
    "#03 -  Crie um programa que leia dois números e mostre a soma entre eles.\n",
    "n1 = int(input('Digite um número: '))\n",
    "n2 = int(input('Digite outro número: '))\n",
    "print(n1 + n2)"
   ]
  },
  {
   "cell_type": "markdown",
   "metadata": {},
   "source": [
    "# 04"
   ]
  },
  {
   "cell_type": "code",
   "execution_count": 6,
   "metadata": {},
   "outputs": [],
   "source": [
    "#04 -  Faça um programa que leia algo pelo teclado e mostre na tela o seu tipo primitivo e todas as informações \n",
    "#possíveis sobre ele."
   ]
  },
  {
   "cell_type": "code",
   "execution_count": 7,
   "metadata": {},
   "outputs": [
    {
     "name": "stdout",
     "output_type": "stream",
     "text": [
      "Digite algo: babo\n",
      "O tipo primitivo desse valor é:  <class 'str'>\n",
      "Só tem espaços?  False\n",
      "É um número?  False\n",
      "É alfabético?  True\n",
      "É alfanumérico?  True\n",
      "Está em maiúsculas?  False\n",
      "Está em minúsculas?  True\n",
      "Está em capitalizada?  False\n"
     ]
    }
   ],
   "source": [
    "a = input('Digite algo: ')\n",
    "print('O tipo primitivo desse valor é: ', type(a))\n",
    "print('Só tem espaços? ', a.isspace())\n",
    "print('É um número? ', a.isnumeric())\n",
    "print('É alfabético? ', a.isalpha())\n",
    "print('É alfanumérico? ', a.isalnum())\n",
    "print('Está em maiúsculas? ', a.isupper())\n",
    "print('Está em minúsculas? ', a.islower())\n",
    "print('Está em capitalizada? ', a.istitle())"
   ]
  },
  {
   "cell_type": "markdown",
   "metadata": {},
   "source": [
    "# 05 "
   ]
  },
  {
   "cell_type": "code",
   "execution_count": 8,
   "metadata": {},
   "outputs": [],
   "source": [
    "#05 - Faça um programa que leia um número inteiro e mostre na tela o seu sucessor e seu antecessor."
   ]
  },
  {
   "cell_type": "code",
   "execution_count": 9,
   "metadata": {},
   "outputs": [
    {
     "name": "stdout",
     "output_type": "stream",
     "text": [
      "Digite um número: 54\n",
      "O antecessor de 54 é 53 e seu sucessor é 55. \n"
     ]
    }
   ],
   "source": [
    "num = int(input('Digite um número: '))\n",
    "a = (num - 1)\n",
    "s = (num + 1)          \n",
    "print('O antecessor de {} é {} e seu sucessor é {}. '.format(num, a, s))\n",
    "        "
   ]
  },
  {
   "cell_type": "markdown",
   "metadata": {},
   "source": [
    "# 06"
   ]
  },
  {
   "cell_type": "code",
   "execution_count": 10,
   "metadata": {},
   "outputs": [],
   "source": [
    "#06 - Crie um algorítimo que leia um número e mostre seu dobro, tríplo e raiz quadrada."
   ]
  },
  {
   "cell_type": "code",
   "execution_count": 12,
   "metadata": {},
   "outputs": [
    {
     "name": "stdout",
     "output_type": "stream",
     "text": [
      "Digite um número: 81\n",
      "ANALIZANDO...\n",
      "O dobro de 81 é 162.\n",
      "O tríplo de 81 é 243.\n",
      "A raíz quadrada de 81 é 9.00.\n"
     ]
    }
   ],
   "source": [
    "from time import sleep\n",
    "n = int(input('Digite um número: '))\n",
    "d = n * 2\n",
    "t = n * 3\n",
    "r = n ** (1/2)\n",
    "print('ANALIZANDO...')\n",
    "sleep(1.5)\n",
    "print('''O dobro de {} é {}.\n",
    "O tríplo de {} é {}.\n",
    "A raíz quadrada de {} é {:.2f}.'''.format(n, d, n, t, n, r))"
   ]
  },
  {
   "cell_type": "markdown",
   "metadata": {},
   "source": [
    "# 07"
   ]
  },
  {
   "cell_type": "code",
   "execution_count": null,
   "metadata": {},
   "outputs": [],
   "source": [
    "#07 - Desenvolva um programa que leia as duas notas de um aluno, calcule e mostre sua média."
   ]
  },
  {
   "cell_type": "code",
   "execution_count": 13,
   "metadata": {},
   "outputs": [
    {
     "name": "stdout",
     "output_type": "stream",
     "text": [
      "Digite a primeira nota: 4.5\n",
      "Digite a segunda nota: 7.2\n",
      "Sua média final foi 5.85\n"
     ]
    }
   ],
   "source": [
    "n1 = float(input('Digite a primeira nota: '))\n",
    "n2 = float(input('Digite a segunda nota: '))\n",
    "nf = (n1 + n2) / 2\n",
    "print('Sua média final foi {}'.format(nf))"
   ]
  },
  {
   "cell_type": "markdown",
   "metadata": {},
   "source": [
    "# 08"
   ]
  },
  {
   "cell_type": "code",
   "execution_count": null,
   "metadata": {},
   "outputs": [],
   "source": [
    "#08 - Escreva um programa que leia um valor em metros e o exiba convertido em centímetros e milímetros."
   ]
  },
  {
   "cell_type": "code",
   "execution_count": 16,
   "metadata": {},
   "outputs": [
    {
     "name": "stdout",
     "output_type": "stream",
     "text": [
      "Digite um valor em métros: 10\n",
      "10.0m é igual a int(1000.0)cm.\n",
      "10.0m é igual a int(10000.0)mm.\n"
     ]
    }
   ],
   "source": [
    "m = float(input('Digite um valor em métros: '))\n",
    "c = m * 100\n",
    "mm = m * 1000\n",
    "print(\"{}m é igual a {}cm.\".format(m, c))\n",
    "print(\"{}m é igual a {}mm.\".format(m, mm))"
   ]
  },
  {
   "cell_type": "markdown",
   "metadata": {},
   "source": [
    "# 09"
   ]
  },
  {
   "cell_type": "code",
   "execution_count": 17,
   "metadata": {},
   "outputs": [
    {
     "name": "stdout",
     "output_type": "stream",
     "text": [
      "Digite um número para ver sua tabuada: 2\n",
      "2 X 1 = 2\n",
      "2 X 2 = 4\n",
      "2 X 3 = 6\n",
      "2 X 4 = 8\n",
      "2 X 5 = 10\n",
      "2 X 6 = 12\n",
      "2 X 7 = 14\n",
      "2 X 8 = 16\n",
      "2 X 9 = 18\n",
      "2 X 10 = 20\n"
     ]
    }
   ],
   "source": [
    "#09 - Faça um programa que leia um número inteiro e mostre na tela a sua tabuada.\n",
    "num = int(input('Digite um número para ver sua tabuada: '))\n",
    "print('{} X {} = {}'.format(num, 1, num*1))\n",
    "print('{} X {} = {}'.format(num, 2, num*2))\n",
    "print('{} X {} = {}'.format(num, 3, num*3))\n",
    "print('{} X {} = {}'.format(num, 4, num*4))\n",
    "print('{} X {} = {}'.format(num, 5, num*5))\n",
    "print('{} X {} = {}'.format(num, 6, num*6))\n",
    "print('{} X {} = {}'.format(num, 7, num*7))\n",
    "print('{} X {} = {}'.format(num, 8, num*8))\n",
    "print('{} X {} = {}'.format(num, 9, num*9))\n",
    "print('{} X {} = {}'.format(num, 10, num*10))"
   ]
  },
  {
   "cell_type": "markdown",
   "metadata": {},
   "source": [
    "# 10"
   ]
  },
  {
   "cell_type": "code",
   "execution_count": null,
   "metadata": {},
   "outputs": [],
   "source": [
    "#10 - Crie um programa que leia quanto dinheiro uma pessoa tem na carteira e mostre quantos Dólares ela pode comprar."
   ]
  },
  {
   "cell_type": "code",
   "execution_count": 19,
   "metadata": {},
   "outputs": [
    {
     "name": "stdout",
     "output_type": "stream",
     "text": [
      "Dinheiro na carteira em reais: 45\n",
      "Você pode comprar $147.15.\n"
     ]
    }
   ],
   "source": [
    "carteira = float(input(\"Dinheiro na carteira em reais: \"))\n",
    "converD = carteira * 3.27\n",
    "print('Você pode comprar ${}.'.format(converD))"
   ]
  },
  {
   "cell_type": "markdown",
   "metadata": {},
   "source": [
    "# 11"
   ]
  },
  {
   "cell_type": "code",
   "execution_count": null,
   "metadata": {},
   "outputs": [],
   "source": [
    "#11 - Faça um programa que leia a largura e a altura de uma parede em metros, calcule a sua área e a quantidade de tinta \n",
    "#necessária para pintá-la, sabendo que cada litro de tinta, pinta uma área de 2m²."
   ]
  },
  {
   "cell_type": "code",
   "execution_count": 20,
   "metadata": {},
   "outputs": [
    {
     "name": "stdout",
     "output_type": "stream",
     "text": [
      "Qual é a largura da parede em metros? 3\n",
      "Qual é a altura da parede em metros? 2\n",
      "Sua parede tem uma área de 6.0m², então você precisará de 3.0l\n"
     ]
    }
   ],
   "source": [
    "largura = float(input(\"Qual é a largura da parede em metros? \"))\n",
    "altura = float(input(\"Qual é a altura da parede em metros? \"))\n",
    "area = largura * altura\n",
    "qtdTinta = area / 2\n",
    "print(\"Sua parede tem uma área de {}m², então você precisará de {}l\".format(area, qtdTinta))"
   ]
  },
  {
   "cell_type": "markdown",
   "metadata": {},
   "source": [
    "# 12"
   ]
  },
  {
   "cell_type": "code",
   "execution_count": null,
   "metadata": {},
   "outputs": [],
   "source": [
    "#12 -  Faça um algorítmo que leia o preço de um produto e mostre seu novo preço, com 5% de desconto."
   ]
  },
  {
   "cell_type": "code",
   "execution_count": 22,
   "metadata": {},
   "outputs": [
    {
     "name": "stdout",
     "output_type": "stream",
     "text": [
      "Valor do produto: R$100\n",
      "Qual a porcentagem de desconto? %5\n",
      "O valor do produto é de R$100.00, mas com desconto de 5%, fica somente R$95.00\n"
     ]
    }
   ],
   "source": [
    "pre = float(input(\"Valor do produto: R$\"))\n",
    "desconto = int(input(\"Qual a porcentagem de desconto? %\"))\n",
    "preFin = pre - (pre*desconto/100)\n",
    "print(\"O valor do produto é de R${:.2f}, mas com desconto de {}%, fica somente R${:.2f}\".format(pre, desconto, preFin))"
   ]
  },
  {
   "cell_type": "markdown",
   "metadata": {},
   "source": [
    "# 13 "
   ]
  },
  {
   "cell_type": "code",
   "execution_count": null,
   "metadata": {},
   "outputs": [],
   "source": [
    "#13 - Faça um algorítmo que leia o salário de um funcionário e mostre seu novo salário, com 15% de aumento."
   ]
  },
  {
   "cell_type": "code",
   "execution_count": 23,
   "metadata": {},
   "outputs": [
    {
     "name": "stdout",
     "output_type": "stream",
     "text": [
      "Valor total do salário: R$100\n",
      "Porcentagem de aumento: 15\n",
      "Com 15% de aumento, o salário ficou em 115.00\n"
     ]
    }
   ],
   "source": [
    "sal = float(input(\"Valor total do salário: R$\"))\n",
    "aum = int(input(\"Porcentagem de aumento: \"))\n",
    "salFin = sal + (sal * aum / 100)\n",
    "print(\"Com {}% de aumento, o salário ficou em {:.2f}\".format(aum, salFin))"
   ]
  },
  {
   "cell_type": "markdown",
   "metadata": {},
   "source": [
    "# 14"
   ]
  },
  {
   "cell_type": "code",
   "execution_count": null,
   "metadata": {},
   "outputs": [],
   "source": [
    "#14 - Escreva um programa que converta uma temperatura digitada em ºC e converta para ºF."
   ]
  },
  {
   "cell_type": "code",
   "execution_count": 26,
   "metadata": {},
   "outputs": [
    {
     "name": "stdout",
     "output_type": "stream",
     "text": [
      "Informe a temperatura em ºC: 21\n",
      "A temperatura de 21.0ºC corresponde a 69.8ºF\n"
     ]
    }
   ],
   "source": [
    "c = float(input('Informe a temperatura em ºC: '))\n",
    "f = 9 * c / 5 + 32\n",
    "print('A temperatura de {}ºC corresponde a {}ºF'.format(c, f))"
   ]
  },
  {
   "cell_type": "markdown",
   "metadata": {},
   "source": [
    "# 15"
   ]
  },
  {
   "cell_type": "code",
   "execution_count": 27,
   "metadata": {},
   "outputs": [],
   "source": [
    "#15 - Escreva um programa que pergunte a quantidade de Km percorridos por um carro alugado e a quantidade de dias pelos quais\n",
    "#ele foi alugado. Calcule o preço a pagar, sabendo que o carro custa R$60 por dia e R$0.15 por Km rodado."
   ]
  },
  {
   "cell_type": "code",
   "execution_count": 29,
   "metadata": {},
   "outputs": [
    {
     "name": "stdout",
     "output_type": "stream",
     "text": [
      "Quantidade de Km rodados com o veículo: 350\n",
      "Quantidade de dias de aluguel: 3\n",
      "Valor pelos dias alugados: 180.00\n",
      "Valor pelos Km rodados: 52.50\n",
      "Valor Total: 232.50\n"
     ]
    }
   ],
   "source": [
    "dist = float(input('Quantidade de Km rodados com o veículo: '))\n",
    "dias = int(input('Quantidade de dias de aluguel: '))\n",
    "preDia = dias * 60\n",
    "preDis = dist * 0.15\n",
    "print('''Valor pelos dias alugados: {:.2f}\n",
    "Valor pelos Km rodados: {:.2f}\n",
    "Valor Total: {:.2f}'''.format(preDia, preDis, preDia+preDis))"
   ]
  },
  {
   "cell_type": "markdown",
   "metadata": {},
   "source": [
    "# 16"
   ]
  },
  {
   "cell_type": "code",
   "execution_count": 30,
   "metadata": {},
   "outputs": [],
   "source": [
    "#16 - Crie um programa que leia um número Real qualquer pelo teclado e mostre na tela a sua porção Inteira."
   ]
  },
  {
   "cell_type": "code",
   "execution_count": 31,
   "metadata": {},
   "outputs": [
    {
     "name": "stdout",
     "output_type": "stream",
     "text": [
      "Digite um numero decimal 6.45\n",
      "O número 6.45 tem a parte inteira 6\n"
     ]
    }
   ],
   "source": [
    "from math import floor\n",
    "num = float(input(\"Digite um numero decimal \"))\n",
    "print(\"O número {} tem a parte inteira {}\".format(num, floor(num)))"
   ]
  },
  {
   "cell_type": "markdown",
   "metadata": {},
   "source": [
    "# 17"
   ]
  },
  {
   "cell_type": "code",
   "execution_count": 32,
   "metadata": {},
   "outputs": [],
   "source": [
    "#17 - Faça um programa que leia o comprimento do cateto oposto e do cateto adjacente de um triângulo retângulo, calcule e \n",
    "#mostre o comprimento da hipotenusa."
   ]
  },
  {
   "cell_type": "code",
   "execution_count": null,
   "metadata": {},
   "outputs": [],
   "source": [
    "#Método Matemático"
   ]
  },
  {
   "cell_type": "code",
   "execution_count": 33,
   "metadata": {},
   "outputs": [
    {
     "name": "stdout",
     "output_type": "stream",
     "text": [
      "Valor do Cateto Oposto: 360\n",
      "Valor do Cateto Adjacente: 90\n",
      "O valor da hipotenusa é: 371.08\n"
     ]
    }
   ],
   "source": [
    "catOp = float(input(\"Valor do Cateto Oposto: \"))\n",
    "catAd = float(input(\"Valor do Cateto Adjacente: \"))\n",
    "hip2 = (catOp**2 + catAd**2)\n",
    "hip = hip2**(1/2)\n",
    "print(\"O valor da hipotenusa é: {:.2f}\".format(hip))"
   ]
  },
  {
   "cell_type": "code",
   "execution_count": null,
   "metadata": {},
   "outputs": [],
   "source": [
    "#Com importação de Módulos"
   ]
  },
  {
   "cell_type": "code",
   "execution_count": null,
   "metadata": {},
   "outputs": [],
   "source": [
    "from math import hypot\n",
    "catOp = float(input(\"Valor do Cateto Oposto: \"))\n",
    "catAd = float(input(\"Valor do Cateto Adjacente\"))\n",
    "hip = math.hypot(catOp, catAd)\n",
    "print(\"A Hipotenusa mede {:.2f}\".format(hip))"
   ]
  },
  {
   "cell_type": "markdown",
   "metadata": {},
   "source": [
    "# 18"
   ]
  },
  {
   "cell_type": "code",
   "execution_count": null,
   "metadata": {},
   "outputs": [],
   "source": [
    "#18 - Faça um programa que leia um ângulo qualquer e mostr na tela o valor do seno, cosseno e tangente desse ângulo."
   ]
  },
  {
   "cell_type": "code",
   "execution_count": null,
   "metadata": {},
   "outputs": [],
   "source": [
    "from math import sin, cos, tan, radians\n",
    "angulo = float(input(\"Ângulo desejado para encontrar os valores: \"))\n",
    "seno = sin(radians(angulo))\n",
    "print(\"O ângulo de {}º tem o seno de {:.2f}\".format(angulo, seno))\n",
    "cosseno = cos(math.radians(angulo))\n",
    "print(\"O ângulo de {}º tem o cosseno de {:.2f}\".format(angulo, cosseno))\n",
    "tangente = tan(math.radians(angulo))\n",
    "print(\"O ângulo de {}º tem o cosseno de {:.2f}\".format(angulo, tangente))"
   ]
  },
  {
   "cell_type": "markdown",
   "metadata": {},
   "source": [
    "# 19 "
   ]
  },
  {
   "cell_type": "code",
   "execution_count": null,
   "metadata": {},
   "outputs": [],
   "source": [
    "#19 - Um professor quer sortear um dos seus quatro alunos para apagar o quadro. Faça um programa que ajude ele, lendo o nome \n",
    "#deles e escrevendo o nome do escolhido."
   ]
  },
  {
   "cell_type": "code",
   "execution_count": 37,
   "metadata": {},
   "outputs": [
    {
     "name": "stdout",
     "output_type": "stream",
     "text": [
      "Digite o nome do primeiro aluno: André\n",
      "Digite o nome do segundo aluno: Felipe\n",
      "Digite o nome do terceiro aluno: Maria\n",
      "Digite o nome do quarto aluno: Ana\n",
      "O aluno escolhido foi Maria\n"
     ]
    }
   ],
   "source": [
    "from random import choice\n",
    "alu1 = str(input('Digite o nome do primeiro aluno: '))\n",
    "alu2 = str(input('Digite o nome do segundo aluno: '))\n",
    "alu3 = str(input('Digite o nome do terceiro aluno: '))\n",
    "alu4 = str(input('Digite o nome do quarto aluno: '))\n",
    "lista = [alu1, alu2, alu3, alu4]\n",
    "escolhido = choice(lista)\n",
    "print('O aluno escolhido foi {}'.format(escolhido))"
   ]
  },
  {
   "cell_type": "markdown",
   "metadata": {},
   "source": [
    "# 20"
   ]
  },
  {
   "cell_type": "code",
   "execution_count": null,
   "metadata": {},
   "outputs": [],
   "source": [
    "#20 - O mesmo professor do desafio anterior quer sortear a ordem de apresentação de trabalhos dos alunos. Faça um programa \n",
    "#que leia o nome dos quatro alunos e mostre a ordem sorteada."
   ]
  },
  {
   "cell_type": "code",
   "execution_count": null,
   "metadata": {},
   "outputs": [],
   "source": [
    "from random import shuffle\n",
    "alu1 = str(input(\"Nome do aluno 1: \"))\n",
    "alu2 = str(input(\"Nome do aluno 2: \"))\n",
    "alu3 = str(input(\"Nome do aluno 3: \"))\n",
    "alu4 = str(input(\"Nome do aluno 4: \"))\n",
    "lista = [alu1, alu2, alu3, alu4]\n",
    "shuffle(lista)\n",
    "print(\"A ordem dos alunos será: \")\n",
    "print(lista)"
   ]
  },
  {
   "cell_type": "markdown",
   "metadata": {},
   "source": [
    "# 21 "
   ]
  },
  {
   "cell_type": "code",
   "execution_count": 38,
   "metadata": {},
   "outputs": [],
   "source": [
    "#21 - Faça um programa em Python que abra e reproduza o áudio de um arquivo MP3."
   ]
  },
  {
   "cell_type": "code",
   "execution_count": 39,
   "metadata": {},
   "outputs": [
    {
     "ename": "ModuleNotFoundError",
     "evalue": "No module named 'pygame'",
     "output_type": "error",
     "traceback": [
      "\u001b[1;31m---------------------------------------------------------------------------\u001b[0m",
      "\u001b[1;31mModuleNotFoundError\u001b[0m                       Traceback (most recent call last)",
      "\u001b[1;32m<ipython-input-39-f738a1096dbe>\u001b[0m in \u001b[0;36m<module>\u001b[1;34m()\u001b[0m\n\u001b[1;32m----> 1\u001b[1;33m \u001b[1;32mimport\u001b[0m \u001b[0mpygame\u001b[0m\u001b[1;33m\u001b[0m\u001b[0m\n\u001b[0m\u001b[0;32m      2\u001b[0m \u001b[0mpygame\u001b[0m\u001b[1;33m.\u001b[0m\u001b[0minit\u001b[0m\u001b[1;33m(\u001b[0m\u001b[1;33m)\u001b[0m\u001b[1;33m\u001b[0m\u001b[0m\n\u001b[0;32m      3\u001b[0m \u001b[0mpygame\u001b[0m\u001b[1;33m.\u001b[0m\u001b[0mmixer\u001b[0m\u001b[1;33m.\u001b[0m\u001b[0mmusic\u001b[0m\u001b[1;33m.\u001b[0m\u001b[0mload\u001b[0m\u001b[1;33m(\u001b[0m\u001b[1;34m'ex021.mp3'\u001b[0m\u001b[1;33m)\u001b[0m\u001b[1;33m\u001b[0m\u001b[0m\n\u001b[0;32m      4\u001b[0m \u001b[0mpygame\u001b[0m\u001b[1;33m.\u001b[0m\u001b[0mmixer\u001b[0m\u001b[1;33m.\u001b[0m\u001b[0mmusic\u001b[0m\u001b[1;33m.\u001b[0m\u001b[0mplay\u001b[0m\u001b[1;33m(\u001b[0m\u001b[1;33m)\u001b[0m\u001b[1;33m\u001b[0m\u001b[0m\n\u001b[0;32m      5\u001b[0m \u001b[0mpygame\u001b[0m\u001b[1;33m.\u001b[0m\u001b[0mevent\u001b[0m\u001b[1;33m.\u001b[0m\u001b[0mwait\u001b[0m\u001b[1;33m(\u001b[0m\u001b[1;33m)\u001b[0m\u001b[1;33m\u001b[0m\u001b[0m\n",
      "\u001b[1;31mModuleNotFoundError\u001b[0m: No module named 'pygame'"
     ]
    }
   ],
   "source": [
    "import pygame\n",
    "pygame.init()\n",
    "pygame.mixer.music.load('ex021.mp3')\n",
    "pygame.mixer.music.play()\n",
    "pygame.event.wait()"
   ]
  },
  {
   "cell_type": "code",
   "execution_count": null,
   "metadata": {},
   "outputs": [],
   "source": []
  }
 ],
 "metadata": {
  "kernelspec": {
   "display_name": "Python 3",
   "language": "python",
   "name": "python3"
  },
  "language_info": {
   "codemirror_mode": {
    "name": "ipython",
    "version": 3
   },
   "file_extension": ".py",
   "mimetype": "text/x-python",
   "name": "python",
   "nbconvert_exporter": "python",
   "pygments_lexer": "ipython3",
   "version": "3.6.5"
  }
 },
 "nbformat": 4,
 "nbformat_minor": 2
}
